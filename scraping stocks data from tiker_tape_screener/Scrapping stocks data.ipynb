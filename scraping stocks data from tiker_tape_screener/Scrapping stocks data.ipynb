{
 "cells": [
  {
   "cell_type": "markdown",
   "id": "46866709",
   "metadata": {},
   "source": [
    "# Scraping stocks data from tickertape"
   ]
  },
  {
   "cell_type": "markdown",
   "id": "44297611",
   "metadata": {},
   "source": [
    "#### Importing libraries"
   ]
  },
  {
   "cell_type": "code",
   "execution_count": 1,
   "id": "9da56e28",
   "metadata": {},
   "outputs": [],
   "source": [
    "import requests\n",
    "from bs4 import BeautifulSoup"
   ]
  },
  {
   "cell_type": "code",
   "execution_count": 3,
   "id": "a56788af",
   "metadata": {},
   "outputs": [],
   "source": [
    "import pandas as pd"
   ]
  },
  {
   "cell_type": "code",
   "execution_count": 25,
   "id": "db51e091",
   "metadata": {},
   "outputs": [],
   "source": [
    "base_site = \"https://www.tickertape.in/screener/equity\""
   ]
  },
  {
   "cell_type": "code",
   "execution_count": 26,
   "id": "e05f35dd",
   "metadata": {},
   "outputs": [
    {
     "data": {
      "text/plain": [
       "200"
      ]
     },
     "execution_count": 26,
     "metadata": {},
     "output_type": "execute_result"
    }
   ],
   "source": [
    "response = requests.get(base_site)\n",
    "response.status_code"
   ]
  },
  {
   "cell_type": "code",
   "execution_count": 27,
   "id": "319e1ffa",
   "metadata": {},
   "outputs": [],
   "source": [
    "html = response.content"
   ]
  },
  {
   "cell_type": "code",
   "execution_count": 28,
   "id": "fd909c05",
   "metadata": {},
   "outputs": [
    {
     "data": {
      "text/plain": [
       "bytes"
      ]
     },
     "execution_count": 28,
     "metadata": {},
     "output_type": "execute_result"
    }
   ],
   "source": [
    "type(html)"
   ]
  },
  {
   "cell_type": "markdown",
   "id": "0e7b0689",
   "metadata": {},
   "source": [
    "### making a soup "
   ]
  },
  {
   "cell_type": "code",
   "execution_count": 29,
   "id": "d2ec2408",
   "metadata": {},
   "outputs": [],
   "source": [
    "soup = BeautifulSoup(html,\"html5lib\")"
   ]
  },
  {
   "cell_type": "code",
   "execution_count": 30,
   "id": "5161f92f",
   "metadata": {},
   "outputs": [
    {
     "data": {
      "text/plain": [
       "2"
      ]
     },
     "execution_count": 30,
     "metadata": {},
     "output_type": "execute_result"
    }
   ],
   "source": [
    "len(soup.contents)"
   ]
  },
  {
   "cell_type": "markdown",
   "id": "00100c7e",
   "metadata": {},
   "source": [
    "### saving contents to html file"
   ]
  },
  {
   "cell_type": "code",
   "execution_count": 31,
   "id": "003d6e3d",
   "metadata": {},
   "outputs": [],
   "source": [
    "with open('stocks_html5lib.html', mode= 'wb') as file:\n",
    "    file.write(soup.prettify('utf-8'))\n",
    "    "
   ]
  },
  {
   "cell_type": "markdown",
   "id": "d5c15ce3",
   "metadata": {},
   "source": [
    " we parsed the html file with BeautifullSoup and saved data to a file, we can proceed further for extracting data."
   ]
  },
  {
   "cell_type": "markdown",
   "id": "1980a3a6",
   "metadata": {},
   "source": [
    "### extracting stocks name"
   ]
  },
  {
   "cell_type": "code",
   "execution_count": 34,
   "id": "a2ca57ae",
   "metadata": {},
   "outputs": [
    {
     "data": {
      "text/plain": [
       "8"
      ]
     },
     "execution_count": 34,
     "metadata": {},
     "output_type": "execute_result"
    }
   ],
   "source": [
    "table = soup.find('section', class_= \"jsx-1054294817 typography-body-regular-m text-primary col-container d-flex-row relative\")\n",
    "len(table)"
   ]
  },
  {
   "cell_type": "code",
   "execution_count": 41,
   "id": "9f459384",
   "metadata": {},
   "outputs": [],
   "source": [
    "t_name = table.find_all('span', class_=\"jsx-1054294817 data-cell screener-cell ellipsis highlight-onhover\")"
   ]
  },
  {
   "cell_type": "code",
   "execution_count": 45,
   "id": "e513e78a",
   "metadata": {},
   "outputs": [
    {
     "data": {
      "text/plain": [
       "['Reliance Industries Ltd',\n",
       " 'Tata Consultancy Services Ltd',\n",
       " 'HDFC Bank Ltd',\n",
       " 'Infosys Ltd',\n",
       " 'Hindustan Unilever Ltd',\n",
       " 'ICICI Bank Ltd',\n",
       " 'State Bank of India',\n",
       " 'Housing Development Finance Corporation Ltd',\n",
       " 'Bajaj Finance Ltd',\n",
       " 'Bharti Airtel Ltd',\n",
       " 'Kotak Mahindra Bank Ltd',\n",
       " 'HCL Technologies Ltd',\n",
       " 'Asian Paints Ltd',\n",
       " 'Wipro Ltd',\n",
       " 'Adani Green Energy Ltd',\n",
       " 'ITC Ltd',\n",
       " 'Avenue Supermarts Ltd',\n",
       " 'Larsen & Toubro Ltd',\n",
       " 'Maruti Suzuki India Ltd',\n",
       " 'Bajaj Finserv Ltd']"
      ]
     },
     "execution_count": 45,
     "metadata": {},
     "output_type": "execute_result"
    }
   ],
   "source": [
    "name = [n.find('span', class_=\"jsx-1054294817 desktop--only pointer\").text for n in t_name]\n",
    "name"
   ]
  },
  {
   "cell_type": "markdown",
   "id": "b5c36d65",
   "metadata": {},
   "source": [
    "# extracting sub-sector "
   ]
  },
  {
   "cell_type": "code",
   "execution_count": 48,
   "id": "e1410a5c",
   "metadata": {},
   "outputs": [
    {
     "data": {
      "text/plain": [
       "'Oil & Gas - Refining & Marketing'"
      ]
     },
     "execution_count": 48,
     "metadata": {},
     "output_type": "execute_result"
    }
   ],
   "source": [
    "table.find_all('span', class_=\"jsx-3425801674 data-cell screener-cell ellipsis desktop--only\")[0].text"
   ]
  },
  {
   "cell_type": "code",
   "execution_count": 50,
   "id": "0f994112",
   "metadata": {},
   "outputs": [],
   "source": [
    "t_sub_sector = table.find_all('span', class_=\"jsx-3425801674 data-cell screener-cell ellipsis desktop--only\")\n"
   ]
  },
  {
   "cell_type": "code",
   "execution_count": 52,
   "id": "f3d1e3c1",
   "metadata": {},
   "outputs": [
    {
     "data": {
      "text/plain": [
       "['Oil & Gas - Refining & Marketing',\n",
       " 'IT Services & Consulting',\n",
       " 'Private Banks',\n",
       " 'IT Services & Consulting',\n",
       " 'FMCG - Household Products',\n",
       " 'Private Banks',\n",
       " 'Public Banks',\n",
       " 'Home Financing',\n",
       " 'Consumer Finance',\n",
       " 'Telecom Services',\n",
       " 'Private Banks',\n",
       " 'IT Services & Consulting',\n",
       " 'Paints',\n",
       " 'IT Services & Consulting',\n",
       " 'Renewable Energy',\n",
       " 'FMCG - Tobacco',\n",
       " 'Retail - Department Stores',\n",
       " 'Construction & Engineering',\n",
       " 'Four Wheelers',\n",
       " 'Insurance']"
      ]
     },
     "execution_count": 52,
     "metadata": {},
     "output_type": "execute_result"
    }
   ],
   "source": [
    "sub_sector= [s.text for s in t_sub_sector]\n",
    "sub_sector"
   ]
  },
  {
   "cell_type": "markdown",
   "id": "60b43578",
   "metadata": {},
   "source": [
    "### extracting marketcap, price, PE Ratio"
   ]
  },
  {
   "cell_type": "code",
   "execution_count": 62,
   "id": "2dd6b60b",
   "metadata": {},
   "outputs": [
    {
     "data": {
      "text/plain": [
       "'15,82,085.62'"
      ]
     },
     "execution_count": 62,
     "metadata": {},
     "output_type": "execute_result"
    }
   ],
   "source": [
    "table.find_all('span', class_=\"jsx-3425801674 data-cell screener-cell desktop--only\")[0].text"
   ]
  },
  {
   "cell_type": "code",
   "execution_count": 65,
   "id": "f1751d05",
   "metadata": {},
   "outputs": [
    {
     "data": {
      "text/plain": [
       "60"
      ]
     },
     "execution_count": 65,
     "metadata": {},
     "output_type": "execute_result"
    }
   ],
   "source": [
    "t_alldata = table.find_all('span', class_=\"jsx-3425801674 data-cell screener-cell desktop--only\")\n",
    "len(t_alldata)"
   ]
  },
  {
   "cell_type": "code",
   "execution_count": 66,
   "id": "572f1bd4",
   "metadata": {},
   "outputs": [
    {
     "data": {
      "text/plain": [
       "60"
      ]
     },
     "execution_count": 66,
     "metadata": {},
     "output_type": "execute_result"
    }
   ],
   "source": [
    "t_alldata= [s.text for s in t_marketcap]\n",
    "len(t_alldata)"
   ]
  },
  {
   "cell_type": "code",
   "execution_count": 67,
   "id": "e49f5cbc",
   "metadata": {},
   "outputs": [
    {
     "data": {
      "text/plain": [
       "['15,82,085.62',\n",
       " '13,81,133.31',\n",
       " '8,16,901.65',\n",
       " '7,05,428.96',\n",
       " '5,23,618.16',\n",
       " '5,23,517.86',\n",
       " '4,47,480.02',\n",
       " '4,16,068.10',\n",
       " '4,09,191.23',\n",
       " '3,97,009.98',\n",
       " '3,47,039.25',\n",
       " '3,11,108.13',\n",
       " '3,01,448.85',\n",
       " '2,95,989.73',\n",
       " '2,91,242.92',\n",
       " '2,70,422.45',\n",
       " '2,57,802.11',\n",
       " '2,52,753.36',\n",
       " '2,52,732.26',\n",
       " '2,49,130.42']"
      ]
     },
     "execution_count": 67,
     "metadata": {},
     "output_type": "execute_result"
    }
   ],
   "source": [
    "# extracting marketcap\n",
    "marketcap = t_alldata[:20]\n",
    "marketcap\n"
   ]
  },
  {
   "cell_type": "code",
   "execution_count": 68,
   "id": "8d784981",
   "metadata": {},
   "outputs": [
    {
     "data": {
      "text/plain": [
       "['2,338.55',\n",
       " '3,733.75',\n",
       " '1,473.70',\n",
       " '1,682.20',\n",
       " '2,228.55',\n",
       " '753.70',\n",
       " '501.40',\n",
       " '2,296.80',\n",
       " '6,785.95',\n",
       " '689.70',\n",
       " '1,746.85',\n",
       " '1,146.45',\n",
       " '3,143.45',\n",
       " '541.70',\n",
       " '1,862.15',\n",
       " '219.45',\n",
       " '3,979.75',\n",
       " '1,799.00',\n",
       " '8,366.40',\n",
       " '15,674.15']"
      ]
     },
     "execution_count": 68,
     "metadata": {},
     "output_type": "execute_result"
    }
   ],
   "source": [
    "# extracting price\n",
    "price = t_alldata[20:40]\n",
    "price"
   ]
  },
  {
   "cell_type": "code",
   "execution_count": 70,
   "id": "7a5752cf",
   "metadata": {},
   "outputs": [
    {
     "data": {
      "text/plain": [
       "['32.20',\n",
       " '42.59',\n",
       " '25.66',\n",
       " '36.45',\n",
       " '65.49',\n",
       " '28.48',\n",
       " '19.97',\n",
       " '22.20',\n",
       " '92.58',\n",
       " '-26.32',\n",
       " '34.74',\n",
       " '27.91',\n",
       " '96.02',\n",
       " '27.42',\n",
       " '1,386.87',\n",
       " '20.55',\n",
       " '234.47',\n",
       " '21.82',\n",
       " '57.58',\n",
       " '55.73']"
      ]
     },
     "execution_count": 70,
     "metadata": {},
     "output_type": "execute_result"
    }
   ],
   "source": [
    "PE_Ratio = t_alldata[40:60]\n",
    "PE_Ratio"
   ]
  },
  {
   "cell_type": "markdown",
   "id": "9ddca3d1",
   "metadata": {},
   "source": [
    "### now combining all data into a data frame"
   ]
  },
  {
   "cell_type": "code",
   "execution_count": 71,
   "id": "c83826e7",
   "metadata": {},
   "outputs": [],
   "source": [
    "stocks = pd.DataFrame()"
   ]
  },
  {
   "cell_type": "code",
   "execution_count": 72,
   "id": "520963bc",
   "metadata": {},
   "outputs": [],
   "source": [
    "stocks['name'] = name\n",
    "stocks['sub-sector'] = sub_sector\n",
    "stocks['marketcap'] = marketcap\n",
    "stocks['price'] = price\n",
    "stocks['PE-Ratio'] = PE_Ratio"
   ]
  },
  {
   "cell_type": "code",
   "execution_count": 73,
   "id": "1444c315",
   "metadata": {},
   "outputs": [
    {
     "data": {
      "text/html": [
       "<div>\n",
       "<style scoped>\n",
       "    .dataframe tbody tr th:only-of-type {\n",
       "        vertical-align: middle;\n",
       "    }\n",
       "\n",
       "    .dataframe tbody tr th {\n",
       "        vertical-align: top;\n",
       "    }\n",
       "\n",
       "    .dataframe thead th {\n",
       "        text-align: right;\n",
       "    }\n",
       "</style>\n",
       "<table border=\"1\" class=\"dataframe\">\n",
       "  <thead>\n",
       "    <tr style=\"text-align: right;\">\n",
       "      <th></th>\n",
       "      <th>name</th>\n",
       "      <th>sub-sector</th>\n",
       "      <th>marketcap</th>\n",
       "      <th>price</th>\n",
       "      <th>PE-Ratio</th>\n",
       "    </tr>\n",
       "  </thead>\n",
       "  <tbody>\n",
       "    <tr>\n",
       "      <th>0</th>\n",
       "      <td>Reliance Industries Ltd</td>\n",
       "      <td>Oil &amp; Gas - Refining &amp; Marketing</td>\n",
       "      <td>15,82,085.62</td>\n",
       "      <td>2,338.55</td>\n",
       "      <td>32.20</td>\n",
       "    </tr>\n",
       "    <tr>\n",
       "      <th>1</th>\n",
       "      <td>Tata Consultancy Services Ltd</td>\n",
       "      <td>IT Services &amp; Consulting</td>\n",
       "      <td>13,81,133.31</td>\n",
       "      <td>3,733.75</td>\n",
       "      <td>42.59</td>\n",
       "    </tr>\n",
       "    <tr>\n",
       "      <th>2</th>\n",
       "      <td>HDFC Bank Ltd</td>\n",
       "      <td>Private Banks</td>\n",
       "      <td>8,16,901.65</td>\n",
       "      <td>1,473.70</td>\n",
       "      <td>25.66</td>\n",
       "    </tr>\n",
       "    <tr>\n",
       "      <th>3</th>\n",
       "      <td>Infosys Ltd</td>\n",
       "      <td>IT Services &amp; Consulting</td>\n",
       "      <td>7,05,428.96</td>\n",
       "      <td>1,682.20</td>\n",
       "      <td>36.45</td>\n",
       "    </tr>\n",
       "    <tr>\n",
       "      <th>4</th>\n",
       "      <td>Hindustan Unilever Ltd</td>\n",
       "      <td>FMCG - Household Products</td>\n",
       "      <td>5,23,618.16</td>\n",
       "      <td>2,228.55</td>\n",
       "      <td>65.49</td>\n",
       "    </tr>\n",
       "    <tr>\n",
       "      <th>5</th>\n",
       "      <td>ICICI Bank Ltd</td>\n",
       "      <td>Private Banks</td>\n",
       "      <td>5,23,517.86</td>\n",
       "      <td>753.70</td>\n",
       "      <td>28.48</td>\n",
       "    </tr>\n",
       "    <tr>\n",
       "      <th>6</th>\n",
       "      <td>State Bank of India</td>\n",
       "      <td>Public Banks</td>\n",
       "      <td>4,47,480.02</td>\n",
       "      <td>501.40</td>\n",
       "      <td>19.97</td>\n",
       "    </tr>\n",
       "    <tr>\n",
       "      <th>7</th>\n",
       "      <td>Housing Development Finance Corporation Ltd</td>\n",
       "      <td>Home Financing</td>\n",
       "      <td>4,16,068.10</td>\n",
       "      <td>2,296.80</td>\n",
       "      <td>22.20</td>\n",
       "    </tr>\n",
       "    <tr>\n",
       "      <th>8</th>\n",
       "      <td>Bajaj Finance Ltd</td>\n",
       "      <td>Consumer Finance</td>\n",
       "      <td>4,09,191.23</td>\n",
       "      <td>6,785.95</td>\n",
       "      <td>92.58</td>\n",
       "    </tr>\n",
       "    <tr>\n",
       "      <th>9</th>\n",
       "      <td>Bharti Airtel Ltd</td>\n",
       "      <td>Telecom Services</td>\n",
       "      <td>3,97,009.98</td>\n",
       "      <td>689.70</td>\n",
       "      <td>-26.32</td>\n",
       "    </tr>\n",
       "    <tr>\n",
       "      <th>10</th>\n",
       "      <td>Kotak Mahindra Bank Ltd</td>\n",
       "      <td>Private Banks</td>\n",
       "      <td>3,47,039.25</td>\n",
       "      <td>1,746.85</td>\n",
       "      <td>34.74</td>\n",
       "    </tr>\n",
       "    <tr>\n",
       "      <th>11</th>\n",
       "      <td>HCL Technologies Ltd</td>\n",
       "      <td>IT Services &amp; Consulting</td>\n",
       "      <td>3,11,108.13</td>\n",
       "      <td>1,146.45</td>\n",
       "      <td>27.91</td>\n",
       "    </tr>\n",
       "    <tr>\n",
       "      <th>12</th>\n",
       "      <td>Asian Paints Ltd</td>\n",
       "      <td>Paints</td>\n",
       "      <td>3,01,448.85</td>\n",
       "      <td>3,143.45</td>\n",
       "      <td>96.02</td>\n",
       "    </tr>\n",
       "    <tr>\n",
       "      <th>13</th>\n",
       "      <td>Wipro Ltd</td>\n",
       "      <td>IT Services &amp; Consulting</td>\n",
       "      <td>2,95,989.73</td>\n",
       "      <td>541.70</td>\n",
       "      <td>27.42</td>\n",
       "    </tr>\n",
       "    <tr>\n",
       "      <th>14</th>\n",
       "      <td>Adani Green Energy Ltd</td>\n",
       "      <td>Renewable Energy</td>\n",
       "      <td>2,91,242.92</td>\n",
       "      <td>1,862.15</td>\n",
       "      <td>1,386.87</td>\n",
       "    </tr>\n",
       "    <tr>\n",
       "      <th>15</th>\n",
       "      <td>ITC Ltd</td>\n",
       "      <td>FMCG - Tobacco</td>\n",
       "      <td>2,70,422.45</td>\n",
       "      <td>219.45</td>\n",
       "      <td>20.55</td>\n",
       "    </tr>\n",
       "    <tr>\n",
       "      <th>16</th>\n",
       "      <td>Avenue Supermarts Ltd</td>\n",
       "      <td>Retail - Department Stores</td>\n",
       "      <td>2,57,802.11</td>\n",
       "      <td>3,979.75</td>\n",
       "      <td>234.47</td>\n",
       "    </tr>\n",
       "    <tr>\n",
       "      <th>17</th>\n",
       "      <td>Larsen &amp; Toubro Ltd</td>\n",
       "      <td>Construction &amp; Engineering</td>\n",
       "      <td>2,52,753.36</td>\n",
       "      <td>1,799.00</td>\n",
       "      <td>21.82</td>\n",
       "    </tr>\n",
       "    <tr>\n",
       "      <th>18</th>\n",
       "      <td>Maruti Suzuki India Ltd</td>\n",
       "      <td>Four Wheelers</td>\n",
       "      <td>2,52,732.26</td>\n",
       "      <td>8,366.40</td>\n",
       "      <td>57.58</td>\n",
       "    </tr>\n",
       "    <tr>\n",
       "      <th>19</th>\n",
       "      <td>Bajaj Finserv Ltd</td>\n",
       "      <td>Insurance</td>\n",
       "      <td>2,49,130.42</td>\n",
       "      <td>15,674.15</td>\n",
       "      <td>55.73</td>\n",
       "    </tr>\n",
       "  </tbody>\n",
       "</table>\n",
       "</div>"
      ],
      "text/plain": [
       "                                           name  \\\n",
       "0                       Reliance Industries Ltd   \n",
       "1                 Tata Consultancy Services Ltd   \n",
       "2                                 HDFC Bank Ltd   \n",
       "3                                   Infosys Ltd   \n",
       "4                        Hindustan Unilever Ltd   \n",
       "5                                ICICI Bank Ltd   \n",
       "6                           State Bank of India   \n",
       "7   Housing Development Finance Corporation Ltd   \n",
       "8                             Bajaj Finance Ltd   \n",
       "9                             Bharti Airtel Ltd   \n",
       "10                      Kotak Mahindra Bank Ltd   \n",
       "11                         HCL Technologies Ltd   \n",
       "12                             Asian Paints Ltd   \n",
       "13                                    Wipro Ltd   \n",
       "14                       Adani Green Energy Ltd   \n",
       "15                                      ITC Ltd   \n",
       "16                        Avenue Supermarts Ltd   \n",
       "17                          Larsen & Toubro Ltd   \n",
       "18                      Maruti Suzuki India Ltd   \n",
       "19                            Bajaj Finserv Ltd   \n",
       "\n",
       "                          sub-sector     marketcap      price  PE-Ratio  \n",
       "0   Oil & Gas - Refining & Marketing  15,82,085.62   2,338.55     32.20  \n",
       "1           IT Services & Consulting  13,81,133.31   3,733.75     42.59  \n",
       "2                      Private Banks   8,16,901.65   1,473.70     25.66  \n",
       "3           IT Services & Consulting   7,05,428.96   1,682.20     36.45  \n",
       "4          FMCG - Household Products   5,23,618.16   2,228.55     65.49  \n",
       "5                      Private Banks   5,23,517.86     753.70     28.48  \n",
       "6                       Public Banks   4,47,480.02     501.40     19.97  \n",
       "7                     Home Financing   4,16,068.10   2,296.80     22.20  \n",
       "8                   Consumer Finance   4,09,191.23   6,785.95     92.58  \n",
       "9                   Telecom Services   3,97,009.98     689.70    -26.32  \n",
       "10                     Private Banks   3,47,039.25   1,746.85     34.74  \n",
       "11          IT Services & Consulting   3,11,108.13   1,146.45     27.91  \n",
       "12                            Paints   3,01,448.85   3,143.45     96.02  \n",
       "13          IT Services & Consulting   2,95,989.73     541.70     27.42  \n",
       "14                  Renewable Energy   2,91,242.92   1,862.15  1,386.87  \n",
       "15                    FMCG - Tobacco   2,70,422.45     219.45     20.55  \n",
       "16        Retail - Department Stores   2,57,802.11   3,979.75    234.47  \n",
       "17        Construction & Engineering   2,52,753.36   1,799.00     21.82  \n",
       "18                     Four Wheelers   2,52,732.26   8,366.40     57.58  \n",
       "19                         Insurance   2,49,130.42  15,674.15     55.73  "
      ]
     },
     "execution_count": 73,
     "metadata": {},
     "output_type": "execute_result"
    }
   ],
   "source": [
    "stocks"
   ]
  },
  {
   "cell_type": "markdown",
   "id": "1f306fe3",
   "metadata": {},
   "source": [
    "### saving dataframe into a csv file"
   ]
  },
  {
   "cell_type": "code",
   "execution_count": 74,
   "id": "d35ce970",
   "metadata": {},
   "outputs": [],
   "source": [
    "stocks.to_csv('top_20_stocks.csv', index= False)"
   ]
  },
  {
   "cell_type": "code",
   "execution_count": null,
   "id": "839a4e28",
   "metadata": {},
   "outputs": [],
   "source": []
  }
 ],
 "metadata": {
  "kernelspec": {
   "display_name": "Python 3",
   "language": "python",
   "name": "python3"
  },
  "language_info": {
   "codemirror_mode": {
    "name": "ipython",
    "version": 3
   },
   "file_extension": ".py",
   "mimetype": "text/x-python",
   "name": "python",
   "nbconvert_exporter": "python",
   "pygments_lexer": "ipython3",
   "version": "3.8.8"
  }
 },
 "nbformat": 4,
 "nbformat_minor": 5
}
