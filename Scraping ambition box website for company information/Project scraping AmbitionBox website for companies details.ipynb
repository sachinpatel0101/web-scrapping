{
 "cells": [
  {
   "cell_type": "markdown",
   "id": "75ad514d",
   "metadata": {},
   "source": [
    "# Scraping AmbitionBox website for company details"
   ]
  },
  {
   "cell_type": "markdown",
   "id": "6f759818",
   "metadata": {},
   "source": [
    "## Importing libraries"
   ]
  },
  {
   "cell_type": "code",
   "execution_count": 1,
   "id": "db7c6fa3",
   "metadata": {},
   "outputs": [],
   "source": [
    "import pandas as pd\n",
    "import requests\n",
    "from bs4 import BeautifulSoup"
   ]
  },
  {
   "cell_type": "code",
   "execution_count": 56,
   "id": "351fef9a",
   "metadata": {},
   "outputs": [],
   "source": [
    "import numpy as np"
   ]
  },
  {
   "cell_type": "code",
   "execution_count": 2,
   "id": "1cdd8382",
   "metadata": {},
   "outputs": [],
   "source": [
    "url = \"https://www.ambitionbox.com/list-of-companies?page=1\""
   ]
  },
  {
   "cell_type": "code",
   "execution_count": 3,
   "id": "70451cd3",
   "metadata": {},
   "outputs": [],
   "source": [
    "# we use headers to when websites not allow bots to scrape data, so we use browser's User-Agent to act as browser.\n",
    "header = {\n",
    "    \"User-Agent\": \"Mozilla/5.0 (Windows NT 10.0; Win64; x64) AppleWebKit/537.36 (KHTML, like Gecko) Chrome/74.0.3729.169 Safari/537.36\"\n",
    "}"
   ]
  },
  {
   "cell_type": "code",
   "execution_count": 4,
   "id": "8f60bf46",
   "metadata": {},
   "outputs": [
    {
     "data": {
      "text/plain": [
       "200"
      ]
     },
     "execution_count": 4,
     "metadata": {},
     "output_type": "execute_result"
    }
   ],
   "source": [
    "response = requests.get(url, headers = header)\n",
    "response.status_code"
   ]
  },
  {
   "cell_type": "code",
   "execution_count": 5,
   "id": "88b1c52d",
   "metadata": {},
   "outputs": [
    {
     "data": {
      "text/plain": [
       "bytes"
      ]
     },
     "execution_count": 5,
     "metadata": {},
     "output_type": "execute_result"
    }
   ],
   "source": [
    "html = response.content\n",
    "type(html)"
   ]
  },
  {
   "cell_type": "markdown",
   "id": "51814660",
   "metadata": {},
   "source": [
    "### making soup object"
   ]
  },
  {
   "cell_type": "code",
   "execution_count": 6,
   "id": "1750055d",
   "metadata": {},
   "outputs": [],
   "source": [
    "soup = BeautifulSoup(html, 'lxml')"
   ]
  },
  {
   "cell_type": "markdown",
   "id": "f84e5152",
   "metadata": {},
   "source": [
    "### savingsoup object to a html file"
   ]
  },
  {
   "cell_type": "code",
   "execution_count": 13,
   "id": "7e4666d6",
   "metadata": {},
   "outputs": [],
   "source": [
    "with open('ambition_box.html','wb') as file:\n",
    "    \n",
    "    file.write(soup.prettify('utf-8'))"
   ]
  },
  {
   "cell_type": "markdown",
   "id": "a50a8ab9",
   "metadata": {},
   "source": [
    "### Finding element containing all data"
   ]
  },
  {
   "cell_type": "code",
   "execution_count": 7,
   "id": "6f1db8aa",
   "metadata": {},
   "outputs": [
    {
     "data": {
      "text/plain": [
       "30"
      ]
     },
     "execution_count": 7,
     "metadata": {},
     "output_type": "execute_result"
    }
   ],
   "source": [
    "cinfo = soup.find_all('div', class_=\"company-content-wrapper\")\n",
    "len(cinfo)"
   ]
  },
  {
   "cell_type": "code",
   "execution_count": 8,
   "id": "523b3b77",
   "metadata": {},
   "outputs": [
    {
     "data": {
      "text/plain": [
       "'TCS'"
      ]
     },
     "execution_count": 8,
     "metadata": {},
     "output_type": "execute_result"
    }
   ],
   "source": [
    "cinfo[0].find('h2', class_=\"company-name bold-title-l\").text.strip()"
   ]
  },
  {
   "cell_type": "code",
   "execution_count": 9,
   "id": "caa7fdc3",
   "metadata": {},
   "outputs": [],
   "source": [
    "# finding names\n",
    "name = [n.find('h2', class_=\"company-name bold-title-l\").text.strip() for n in cinfo]"
   ]
  },
  {
   "cell_type": "code",
   "execution_count": 10,
   "id": "4122a04b",
   "metadata": {},
   "outputs": [
    {
     "data": {
      "text/plain": [
       "'4.0'"
      ]
     },
     "execution_count": 10,
     "metadata": {},
     "output_type": "execute_result"
    }
   ],
   "source": [
    "#finding ratings\n",
    "cinfo[10].find('div', class_=\"rating-wrapper\").find('p').text.strip()"
   ]
  },
  {
   "cell_type": "code",
   "execution_count": 11,
   "id": "20e9caa2",
   "metadata": {},
   "outputs": [],
   "source": [
    "# ratings\n",
    "rating = [None if r is None else r.find('div', class_=\"rating-wrapper\").find('p').text.strip() for r in cinfo]"
   ]
  },
  {
   "cell_type": "code",
   "execution_count": 13,
   "id": "9b7d5296",
   "metadata": {},
   "outputs": [
    {
     "data": {
      "text/plain": [
       "30"
      ]
     },
     "execution_count": 13,
     "metadata": {},
     "output_type": "execute_result"
    }
   ],
   "source": [
    "company_info = soup.find_all('div', class_=\"company-basic-info\")\n",
    "len(company_info)"
   ]
  },
  {
   "cell_type": "code",
   "execution_count": 20,
   "id": "96de85e7",
   "metadata": {},
   "outputs": [
    {
     "data": {
      "text/plain": [
       "[<p class=\"infoEntity sbold-list-header\"><i class=\"icon-domain\"></i>\n",
       " \t\t\t\t\t\tPublic\n",
       " \t\t\t\t\t</p>,\n",
       " <p class=\"infoEntity sbold-list-header\"><i class=\"icon-pin-drop\"></i>\n",
       " \t\t\t\t\t\tMumbai,Maharashtra + 216 more\n",
       " \t\t\t\t\t</p>,\n",
       " <p class=\"infoEntity sbold-list-header\"><i class=\"icon-access-time\"></i>\n",
       " \t\t\t\t\t\t54 years old\n",
       " \t\t\t\t\t</p>,\n",
       " <p class=\"infoEntity sbold-list-header\"><i class=\"icon-supervisor-account\"></i>\n",
       " \t\t\t\t\t\t1 Lakh+ employees (India)\n",
       " \t\t\t\t\t</p>]"
      ]
     },
     "execution_count": 20,
     "metadata": {},
     "output_type": "execute_result"
    }
   ],
   "source": [
    "company_info[0].find_all('p')"
   ]
  },
  {
   "cell_type": "code",
   "execution_count": 24,
   "id": "6f4dee7e",
   "metadata": {},
   "outputs": [],
   "source": [
    "# company type\n",
    "company_type = [t.find_all('p')[0].text.strip() for t in company_info]"
   ]
  },
  {
   "cell_type": "code",
   "execution_count": 26,
   "id": "c658bc4d",
   "metadata": {},
   "outputs": [],
   "source": [
    "# company headquarters\n",
    "c_headquarters = [t.find_all('p')[1].text.strip() for t in company_info]"
   ]
  },
  {
   "cell_type": "code",
   "execution_count": 28,
   "id": "ec4d25f5",
   "metadata": {},
   "outputs": [],
   "source": [
    "# company age\n",
    "c_age = [t.find_all('p')[2].text.strip() for t in company_info]"
   ]
  },
  {
   "cell_type": "code",
   "execution_count": 32,
   "id": "a61f3f73",
   "metadata": {},
   "outputs": [],
   "source": [
    "# number of employees\n",
    "c_employees = [t.find_all('p')[3].text.strip() for t in company_info]\n"
   ]
  },
  {
   "cell_type": "code",
   "execution_count": 33,
   "id": "f9686cbf",
   "metadata": {},
   "outputs": [],
   "source": [
    "# scrapping other details"
   ]
  },
  {
   "cell_type": "code",
   "execution_count": 65,
   "id": "f3c80721",
   "metadata": {},
   "outputs": [
    {
     "data": {
      "text/plain": [
       "[<a class=\"ab_chip body-medium\" data-filter-name=\"chips_Company-Tags_consumer-goods\" href=\"/consumer-goods-companies-in-india\" title=\"Consumer goods companies in India\">\n",
       " \t\t\t\t\t\tConsumer goods\n",
       " \t\t\t\t\t</a>,\n",
       " <a class=\"ab_chip body-medium\" data-filter-name=\"chips_Company-Tags_financial-services\" href=\"/financial-services-companies-in-india\" title=\"Financial Services companies in India\">\n",
       " \t\t\t\t\t\tFinancial Services\n",
       " \t\t\t\t\t</a>,\n",
       " <a class=\"ab_chip body-medium\" data-filter-name=\"chips_Company-Tags_manufacturing\" href=\"/manufacturing-companies-in-india\" title=\"Manufacturing companies in India\">\n",
       " \t\t\t\t\t\tManufacturing\n",
       " \t\t\t\t\t</a>,\n",
       " <a class=\"ab_chip body-medium\" data-filter-name=\"chips_Company-Tags_insurance\" href=\"/insurance-companies-in-india\" title=\"Insurance companies in India\">\n",
       " \t\t\t\t\t\tInsurance\n",
       " \t\t\t\t\t</a>,\n",
       " <a class=\"ab_chip body-medium\" data-filter-name=\"chips_Company-Tags_gurgaon\" href=\"/companies-in-gurgaon\" title=\"Companies in Gurgaon/Gurugram,Haryana\">\n",
       " \t\t\t\t\t\tGurgaon/Gurugram,Haryana\n",
       " \t\t\t\t\t</a>]"
      ]
     },
     "execution_count": 65,
     "metadata": {},
     "output_type": "execute_result"
    }
   ],
   "source": [
    "cinfo[0].find_all('a', class_= \"ab_chip body-medium\")"
   ]
  },
  {
   "cell_type": "code",
   "execution_count": 40,
   "id": "3f59f547",
   "metadata": {},
   "outputs": [
    {
     "data": {
      "text/plain": [
       "30"
      ]
     },
     "execution_count": 40,
     "metadata": {},
     "output_type": "execute_result"
    }
   ],
   "source": [
    "a_tag = [o.find_all('a', class_= \"ab_chip body-medium\") for o in cinfo]\n",
    "len(a_tag)"
   ]
  },
  {
   "cell_type": "code",
   "execution_count": 44,
   "id": "54cec1b6",
   "metadata": {},
   "outputs": [],
   "source": [
    "other_details = []\n",
    "\n",
    "for a in a_tag:\n",
    "    ot = []\n",
    "    for s in a:\n",
    "        details = s.text.strip()\n",
    "        ot.append(details)\n",
    "    result = \", \".join(ot)\n",
    "    other_details.append(result)"
   ]
  },
  {
   "cell_type": "code",
   "execution_count": 46,
   "id": "819dc7e2",
   "metadata": {},
   "outputs": [
    {
     "data": {
      "text/plain": [
       "['BPO / Call Centre, IT Services & Consulting, Fortune500, Forbes Global 2000, Public, Mumbai,Maharashtra',\n",
       " 'IT Services & Consulting, Software Product, Forbes Global 2000, Public',\n",
       " 'IT Services & Consulting, Forbes Global 2000']"
      ]
     },
     "execution_count": 46,
     "metadata": {},
     "output_type": "execute_result"
    }
   ],
   "source": [
    "other_details[:3]"
   ]
  },
  {
   "cell_type": "markdown",
   "id": "3cf8ba6e",
   "metadata": {},
   "source": [
    "### converting data to dictonary format "
   ]
  },
  {
   "cell_type": "code",
   "execution_count": 47,
   "id": "80132d5f",
   "metadata": {},
   "outputs": [],
   "source": [
    "df = {'company_name': name, \n",
    "      'rating': rating, \n",
    "      'company_type': company_type, \n",
    "      'company_headquarters':c_headquarters, \n",
    "      'company_age':c_age, \n",
    "      'no_of_employees': c_employees, \n",
    "      'other_details': other_details}"
   ]
  },
  {
   "cell_type": "code",
   "execution_count": 52,
   "id": "385db5b2",
   "metadata": {},
   "outputs": [
    {
     "data": {
      "text/html": [
       "<div>\n",
       "<style scoped>\n",
       "    .dataframe tbody tr th:only-of-type {\n",
       "        vertical-align: middle;\n",
       "    }\n",
       "\n",
       "    .dataframe tbody tr th {\n",
       "        vertical-align: top;\n",
       "    }\n",
       "\n",
       "    .dataframe thead th {\n",
       "        text-align: right;\n",
       "    }\n",
       "</style>\n",
       "<table border=\"1\" class=\"dataframe\">\n",
       "  <thead>\n",
       "    <tr style=\"text-align: right;\">\n",
       "      <th></th>\n",
       "      <th>company_name</th>\n",
       "      <th>rating</th>\n",
       "      <th>company_type</th>\n",
       "      <th>company_headquarters</th>\n",
       "      <th>company_age</th>\n",
       "      <th>no_of_employees</th>\n",
       "      <th>other_details</th>\n",
       "    </tr>\n",
       "  </thead>\n",
       "  <tbody>\n",
       "    <tr>\n",
       "      <th>0</th>\n",
       "      <td>TCS</td>\n",
       "      <td>3.9</td>\n",
       "      <td>Public</td>\n",
       "      <td>Mumbai,Maharashtra + 216 more</td>\n",
       "      <td>54 years old</td>\n",
       "      <td>1 Lakh+ employees (India)</td>\n",
       "      <td>BPO / Call Centre, IT Services &amp; Consulting, F...</td>\n",
       "    </tr>\n",
       "    <tr>\n",
       "      <th>1</th>\n",
       "      <td>Accenture</td>\n",
       "      <td>4.0</td>\n",
       "      <td>Public</td>\n",
       "      <td>Dublin,Dublin + 124 more</td>\n",
       "      <td>33 years old</td>\n",
       "      <td>1 Lakh+ employees (India)</td>\n",
       "      <td>IT Services &amp; Consulting, Software Product, Fo...</td>\n",
       "    </tr>\n",
       "    <tr>\n",
       "      <th>2</th>\n",
       "      <td>Cognizant</td>\n",
       "      <td>3.9</td>\n",
       "      <td>Private</td>\n",
       "      <td>Teaneck,New Jersey + 76 more</td>\n",
       "      <td>28 years old</td>\n",
       "      <td>1 Lakh+ employees (India)</td>\n",
       "      <td>IT Services &amp; Consulting, Forbes Global 2000</td>\n",
       "    </tr>\n",
       "    <tr>\n",
       "      <th>3</th>\n",
       "      <td>ICICI Bank</td>\n",
       "      <td>4.0</td>\n",
       "      <td>Public</td>\n",
       "      <td>Mumbai,Maharashtra + 918 more</td>\n",
       "      <td>28 years old</td>\n",
       "      <td>50k-1 Lakh employees (India)</td>\n",
       "      <td>Chemicals / Agri Inputs, Financial Services, M...</td>\n",
       "    </tr>\n",
       "    <tr>\n",
       "      <th>4</th>\n",
       "      <td>HDFC Bank</td>\n",
       "      <td>4.0</td>\n",
       "      <td>Public</td>\n",
       "      <td>Mumbai,Maharashtra + 1002 more</td>\n",
       "      <td>28 years old</td>\n",
       "      <td>1 Lakh+ employees (India)</td>\n",
       "      <td>Financial Services, Banking, Insurance, Fortun...</td>\n",
       "    </tr>\n",
       "  </tbody>\n",
       "</table>\n",
       "</div>"
      ],
      "text/plain": [
       "  company_name rating company_type            company_headquarters  \\\n",
       "0          TCS    3.9       Public   Mumbai,Maharashtra + 216 more   \n",
       "1    Accenture    4.0       Public        Dublin,Dublin + 124 more   \n",
       "2    Cognizant    3.9      Private    Teaneck,New Jersey + 76 more   \n",
       "3   ICICI Bank    4.0       Public   Mumbai,Maharashtra + 918 more   \n",
       "4    HDFC Bank    4.0       Public  Mumbai,Maharashtra + 1002 more   \n",
       "\n",
       "    company_age               no_of_employees  \\\n",
       "0  54 years old     1 Lakh+ employees (India)   \n",
       "1  33 years old     1 Lakh+ employees (India)   \n",
       "2  28 years old     1 Lakh+ employees (India)   \n",
       "3  28 years old  50k-1 Lakh employees (India)   \n",
       "4  28 years old     1 Lakh+ employees (India)   \n",
       "\n",
       "                                       other_details  \n",
       "0  BPO / Call Centre, IT Services & Consulting, F...  \n",
       "1  IT Services & Consulting, Software Product, Fo...  \n",
       "2       IT Services & Consulting, Forbes Global 2000  \n",
       "3  Chemicals / Agri Inputs, Financial Services, M...  \n",
       "4  Financial Services, Banking, Insurance, Fortun...  "
      ]
     },
     "execution_count": 52,
     "metadata": {},
     "output_type": "execute_result"
    }
   ],
   "source": [
    "data = pd.DataFrame(df)\n",
    "data.head()"
   ]
  },
  {
   "cell_type": "markdown",
   "id": "de1e4f5a",
   "metadata": {},
   "source": [
    "## Now automating the code and fetching data from next 4 pages for top 120 companies by popularity "
   ]
  },
  {
   "cell_type": "code",
   "execution_count": 57,
   "id": "adb765c9",
   "metadata": {},
   "outputs": [],
   "source": [
    "final = pd.DataFrame()\n",
    "\n",
    "# for itirating through pages\n",
    "for i in range(1,5):\n",
    "    \n",
    "    url = f'https://www.ambitionbox.com/list-of-companies?page={i}'\n",
    "    header = {\"User-Agent\": \"Mozilla/5.0 (Windows NT 10.0; Win64; x64) AppleWebKit/537.36 (KHTML, like Gecko) Chrome/74.0.3729.169 Safari/537.36\"}\n",
    "    \n",
    "    response = requests.get(url, headers = header)\n",
    "    html = response.content\n",
    "    soup = BeautifulSoup(html, 'lxml')\n",
    "    cinfo = soup.find_all('div', class_=\"company-content-wrapper\")\n",
    "    company_info = soup.find_all('div', class_=\"company-basic-info\")\n",
    "    # finding names\n",
    "    name = [n.find('h2', class_=\"company-name bold-title-l\").text.strip() for n in cinfo]\n",
    "    # ratings\n",
    "    rating = [None if r is None else r.find('div', class_=\"rating-wrapper\").find('p').text.strip() for r in cinfo]\n",
    "    # company type\n",
    "    company_type = [t.find_all('p')[0].text.strip() for t in company_info]\n",
    "    # company headquarters\n",
    "    c_headquarters = [t.find_all('p')[1].text.strip() for t in company_info]\n",
    "    # company age\n",
    "    c_age = [t.find_all('p')[2].text.strip() for t in company_info]\n",
    "    # number of employees\n",
    "    c_employees = []\n",
    "    \n",
    "    for t in company_info:\n",
    "        try:\n",
    "            ss = t.find_all('p')[2].text.strip()\n",
    "            c_employees.append(ss)\n",
    "        except:\n",
    "            c_employees.append(np.nan)\n",
    "    # for other details\n",
    "    a_tag = [o.find_all('a', class_= \"ab_chip body-medium\") for o in cinfo]\n",
    "    \n",
    "    other_details = []\n",
    "\n",
    "    for a in a_tag:\n",
    "        ot = []\n",
    "        for s in a:\n",
    "            details = s.text.strip()\n",
    "            ot.append(details)\n",
    "        result = \", \".join(ot)\n",
    "        other_details.append(result)\n",
    "    \n",
    "    # creating dictionary for dataframe\n",
    "    df = {'company_name': name, \n",
    "      'rating': rating, \n",
    "      'company_type': company_type, \n",
    "      'company_headquarters':c_headquarters, \n",
    "      'company_age':c_age, \n",
    "      'no_of_employees': c_employees, \n",
    "      'other_details': other_details}\n",
    "    \n",
    "    data = pd.DataFrame(df)\n",
    "    \n",
    "    final = final.append(data, ignore_index= True)\n",
    "    \n",
    "    \n",
    "    "
   ]
  },
  {
   "cell_type": "markdown",
   "id": "3e44a9d3",
   "metadata": {},
   "source": [
    "## Saving dataframe to a csv file"
   ]
  },
  {
   "cell_type": "code",
   "execution_count": 66,
   "id": "44c40269",
   "metadata": {},
   "outputs": [],
   "source": [
    "final.to_csv('company_info.csv',index= False)"
   ]
  },
  {
   "cell_type": "code",
   "execution_count": null,
   "id": "2f1850b8",
   "metadata": {},
   "outputs": [],
   "source": []
  }
 ],
 "metadata": {
  "kernelspec": {
   "display_name": "Python 3",
   "language": "python",
   "name": "python3"
  },
  "language_info": {
   "codemirror_mode": {
    "name": "ipython",
    "version": 3
   },
   "file_extension": ".py",
   "mimetype": "text/x-python",
   "name": "python",
   "nbconvert_exporter": "python",
   "pygments_lexer": "ipython3",
   "version": "3.8.8"
  }
 },
 "nbformat": 4,
 "nbformat_minor": 5
}
