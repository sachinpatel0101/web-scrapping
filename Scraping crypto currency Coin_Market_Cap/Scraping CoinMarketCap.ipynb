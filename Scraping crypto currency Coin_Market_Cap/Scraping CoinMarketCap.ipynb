{
 "cells": [
  {
   "cell_type": "markdown",
   "id": "bb3f1fb0",
   "metadata": {},
   "source": [
    "# Scrapping top 10 cryptocurrencies data from CoinMarketCap"
   ]
  },
  {
   "cell_type": "markdown",
   "id": "b5cf5880",
   "metadata": {},
   "source": [
    "### Importing Libraries"
   ]
  },
  {
   "cell_type": "code",
   "execution_count": 1,
   "id": "757615aa",
   "metadata": {},
   "outputs": [],
   "source": [
    "import requests\n",
    "from bs4 import BeautifulSoup"
   ]
  },
  {
   "cell_type": "code",
   "execution_count": 2,
   "id": "c695db5b",
   "metadata": {},
   "outputs": [],
   "source": [
    "url = \"https://coinmarketcap.com/\""
   ]
  },
  {
   "cell_type": "code",
   "execution_count": 4,
   "id": "69f6744f",
   "metadata": {},
   "outputs": [
    {
     "data": {
      "text/plain": [
       "200"
      ]
     },
     "execution_count": 4,
     "metadata": {},
     "output_type": "execute_result"
    }
   ],
   "source": [
    "response = requests.get(url)\n",
    "response.status_code"
   ]
  },
  {
   "cell_type": "code",
   "execution_count": 5,
   "id": "a6cdf3da",
   "metadata": {},
   "outputs": [
    {
     "data": {
      "text/plain": [
       "bytes"
      ]
     },
     "execution_count": 5,
     "metadata": {},
     "output_type": "execute_result"
    }
   ],
   "source": [
    "html = response.content\n",
    "type(html)"
   ]
  },
  {
   "cell_type": "markdown",
   "id": "a5b983c9",
   "metadata": {},
   "source": [
    "### making a soup"
   ]
  },
  {
   "cell_type": "code",
   "execution_count": 6,
   "id": "d03156a2",
   "metadata": {},
   "outputs": [
    {
     "data": {
      "text/plain": [
       "2"
      ]
     },
     "execution_count": 6,
     "metadata": {},
     "output_type": "execute_result"
    }
   ],
   "source": [
    "soup = BeautifulSoup(html,'lxml')\n",
    "len(soup)"
   ]
  },
  {
   "cell_type": "markdown",
   "id": "e1ace635",
   "metadata": {},
   "source": [
    "#### saving html file"
   ]
  },
  {
   "cell_type": "code",
   "execution_count": 6,
   "id": "a49c61b7",
   "metadata": {},
   "outputs": [],
   "source": [
    "with open(\"crypto_data.html\",'wb') as file:\n",
    "    file.write(soup.prettify('utf-8'))"
   ]
  },
  {
   "cell_type": "code",
   "execution_count": 19,
   "id": "ed557aa2",
   "metadata": {},
   "outputs": [],
   "source": [
    "table = soup.find('table', {'class':'h7vnx2-2 czTsgW cmc-table'})"
   ]
  },
  {
   "cell_type": "code",
   "execution_count": 20,
   "id": "665e6664",
   "metadata": {},
   "outputs": [
    {
     "data": {
      "text/plain": [
       "bs4.element.Tag"
      ]
     },
     "execution_count": 20,
     "metadata": {},
     "output_type": "execute_result"
    }
   ],
   "source": [
    "type(table)"
   ]
  },
  {
   "cell_type": "code",
   "execution_count": 21,
   "id": "f8557923",
   "metadata": {},
   "outputs": [
    {
     "data": {
      "text/plain": [
       "3"
      ]
     },
     "execution_count": 21,
     "metadata": {},
     "output_type": "execute_result"
    }
   ],
   "source": [
    "len(table)"
   ]
  },
  {
   "cell_type": "markdown",
   "id": "f9184467",
   "metadata": {},
   "source": [
    "### getting headers"
   ]
  },
  {
   "cell_type": "code",
   "execution_count": 29,
   "id": "398b76d6",
   "metadata": {},
   "outputs": [
    {
     "data": {
      "text/plain": [
       "[<p class=\"sc-1eb5slv-0 iKUzJY\" color=\"text\" font-size=\"0\">Name</p>,\n",
       " <p class=\"sc-1eb5slv-0 iKUzJY\" color=\"text\" font-size=\"0\">Price</p>,\n",
       " <p class=\"sc-1eb5slv-0 iKUzJY\" color=\"text\" font-size=\"0\">24h %</p>,\n",
       " <p class=\"sc-1eb5slv-0 iKUzJY\" color=\"text\" font-size=\"0\">7d %</p>,\n",
       " <p class=\"sc-1eb5slv-0 iKUzJY\" color=\"text\" font-size=\"0\">Market Cap</p>,\n",
       " <p class=\"sc-1eb5slv-0 iKUzJY\" color=\"text\" font-size=\"0\">Volume(24h)</p>,\n",
       " <p class=\"sc-1eb5slv-0 iKUzJY\" color=\"text\" font-size=\"0\">Circulating Supply</p>]"
      ]
     },
     "execution_count": 29,
     "metadata": {},
     "output_type": "execute_result"
    }
   ],
   "source": [
    "table.find_all('p', class_=\"sc-1eb5slv-0 iKUzJY\")"
   ]
  },
  {
   "cell_type": "code",
   "execution_count": 30,
   "id": "83573634",
   "metadata": {},
   "outputs": [],
   "source": [
    "headers = table.find_all('p', class_=\"sc-1eb5slv-0 iKUzJY\")"
   ]
  },
  {
   "cell_type": "code",
   "execution_count": 33,
   "id": "0467ca09",
   "metadata": {},
   "outputs": [
    {
     "data": {
      "text/plain": [
       "['Name',\n",
       " 'Price',\n",
       " '24h %',\n",
       " '7d %',\n",
       " 'Market Cap',\n",
       " 'Volume(24h)',\n",
       " 'Circulating Supply']"
      ]
     },
     "execution_count": 33,
     "metadata": {},
     "output_type": "execute_result"
    }
   ],
   "source": [
    "headers = [h.text for h in headers]\n",
    "headers"
   ]
  },
  {
   "cell_type": "markdown",
   "id": "f1a80d75",
   "metadata": {},
   "source": [
    "### extracting names and symbols"
   ]
  },
  {
   "cell_type": "code",
   "execution_count": 38,
   "id": "a3c24e43",
   "metadata": {},
   "outputs": [
    {
     "data": {
      "text/plain": [
       "10"
      ]
     },
     "execution_count": 38,
     "metadata": {},
     "output_type": "execute_result"
    }
   ],
   "source": [
    "len(table.find_all('div',class_=\"sc-16r8icm-0 sc-1teo54s-1 dNOTPP\"))"
   ]
  },
  {
   "cell_type": "code",
   "execution_count": 39,
   "id": "ff2623aa",
   "metadata": {},
   "outputs": [],
   "source": [
    "name = table.find_all('p', class_=\"sc-1eb5slv-0 iworPT\")"
   ]
  },
  {
   "cell_type": "code",
   "execution_count": 41,
   "id": "37a75e8b",
   "metadata": {},
   "outputs": [
    {
     "data": {
      "text/plain": [
       "['Bitcoin',\n",
       " 'Ethereum',\n",
       " 'Tether',\n",
       " 'BNB',\n",
       " 'USD Coin',\n",
       " 'XRP',\n",
       " 'Cardano',\n",
       " 'Solana',\n",
       " 'Terra',\n",
       " 'Dogecoin']"
      ]
     },
     "execution_count": 41,
     "metadata": {},
     "output_type": "execute_result"
    }
   ],
   "source": [
    "name = [n.text for n in name]\n",
    "name"
   ]
  },
  {
   "cell_type": "code",
   "execution_count": 43,
   "id": "fa25d6fc",
   "metadata": {},
   "outputs": [
    {
     "data": {
      "text/plain": [
       "[<p class=\"sc-1eb5slv-0 iworPT\" color=\"text\" font-size=\"1\" font-weight=\"semibold\">Bitcoin</p>,\n",
       " <p class=\"sc-1eb5slv-0 gGIpIK coin-item-symbol\" color=\"text3\" font-size=\"1\">BTC</p>]"
      ]
     },
     "execution_count": 43,
     "metadata": {},
     "output_type": "execute_result"
    }
   ],
   "source": [
    "table.find_all('div',class_=\"sc-16r8icm-0 sc-1teo54s-1 dNOTPP\")[0].find_all('p')"
   ]
  },
  {
   "cell_type": "code",
   "execution_count": 45,
   "id": "53c11b76",
   "metadata": {},
   "outputs": [
    {
     "data": {
      "text/plain": [
       "[<p class=\"sc-1eb5slv-0 gGIpIK coin-item-symbol\" color=\"text3\" font-size=\"1\">BTC</p>,\n",
       " <p class=\"sc-1eb5slv-0 gGIpIK coin-item-symbol\" color=\"text3\" font-size=\"1\">ETH</p>,\n",
       " <p class=\"sc-1eb5slv-0 gGIpIK coin-item-symbol\" color=\"text3\" font-size=\"1\">USDT</p>,\n",
       " <p class=\"sc-1eb5slv-0 gGIpIK coin-item-symbol\" color=\"text3\" font-size=\"1\">BNB</p>,\n",
       " <p class=\"sc-1eb5slv-0 gGIpIK coin-item-symbol\" color=\"text3\" font-size=\"1\">USDC</p>,\n",
       " <p class=\"sc-1eb5slv-0 gGIpIK coin-item-symbol\" color=\"text3\" font-size=\"1\">XRP</p>,\n",
       " <p class=\"sc-1eb5slv-0 gGIpIK coin-item-symbol\" color=\"text3\" font-size=\"1\">ADA</p>,\n",
       " <p class=\"sc-1eb5slv-0 gGIpIK coin-item-symbol\" color=\"text3\" font-size=\"1\">SOL</p>,\n",
       " <p class=\"sc-1eb5slv-0 gGIpIK coin-item-symbol\" color=\"text3\" font-size=\"1\">LUNA</p>,\n",
       " <p class=\"sc-1eb5slv-0 gGIpIK coin-item-symbol\" color=\"text3\" font-size=\"1\">DOGE</p>]"
      ]
     },
     "execution_count": 45,
     "metadata": {},
     "output_type": "execute_result"
    }
   ],
   "source": [
    "table.find_all('p', class_=\"sc-1eb5slv-0 gGIpIK coin-item-symbol\")"
   ]
  },
  {
   "cell_type": "code",
   "execution_count": 46,
   "id": "2ebdc82c",
   "metadata": {},
   "outputs": [],
   "source": [
    "symbol = table.find_all('p', class_=\"sc-1eb5slv-0 gGIpIK coin-item-symbol\")"
   ]
  },
  {
   "cell_type": "code",
   "execution_count": 48,
   "id": "3eea113c",
   "metadata": {},
   "outputs": [
    {
     "data": {
      "text/plain": [
       "['BTC', 'ETH', 'USDT', 'BNB', 'USDC', 'XRP', 'ADA', 'SOL', 'LUNA', 'DOGE']"
      ]
     },
     "execution_count": 48,
     "metadata": {},
     "output_type": "execute_result"
    }
   ],
   "source": [
    "symbol = [s.text for s in symbol]\n",
    "symbol"
   ]
  },
  {
   "cell_type": "markdown",
   "id": "6901f99a",
   "metadata": {},
   "source": [
    "### extracting price"
   ]
  },
  {
   "cell_type": "code",
   "execution_count": 56,
   "id": "635abda3",
   "metadata": {},
   "outputs": [
    {
     "data": {
      "text/plain": [
       "[<div class=\"sc-131di3y-0 cLgOOr\"><a class=\"cmc-link\" href=\"/currencies/bitcoin/markets/\"><span>$42,517.17</span></a></div>,\n",
       " <div class=\"sc-131di3y-0 cLgOOr\"><a class=\"cmc-link\" href=\"/currencies/ethereum/markets/\"><span>$2,932.67</span></a></div>,\n",
       " <div class=\"sc-131di3y-0 cLgOOr\"><a class=\"cmc-link\" href=\"/currencies/tether/markets/\"><span>$1.00</span></a></div>,\n",
       " <div class=\"sc-131di3y-0 cLgOOr\"><a class=\"cmc-link\" href=\"/currencies/bnb/markets/\"><span>$404.69</span></a></div>,\n",
       " <div class=\"sc-131di3y-0 cLgOOr\"><a class=\"cmc-link\" href=\"/currencies/usd-coin/markets/\"><span>$0.9996</span></a></div>,\n",
       " <div class=\"sc-131di3y-0 cLgOOr\"><a class=\"cmc-link\" href=\"/currencies/xrp/markets/\"><span>$0.8276</span></a></div>,\n",
       " <div class=\"sc-131di3y-0 cLgOOr\"><a class=\"cmc-link\" href=\"/currencies/cardano/markets/\"><span>$1.07</span></a></div>,\n",
       " <div class=\"sc-131di3y-0 cLgOOr\"><a class=\"cmc-link\" href=\"/currencies/solana/markets/\"><span>$96.00</span></a></div>,\n",
       " <div class=\"sc-131di3y-0 cLgOOr\"><a class=\"cmc-link\" href=\"/currencies/terra-luna/markets/\"><span>$53.17</span></a></div>,\n",
       " <div class=\"sc-131di3y-0 cLgOOr\"><a class=\"cmc-link\" href=\"/currencies/dogecoin/markets/\"><span>$0.1547</span></a></div>]"
      ]
     },
     "execution_count": 56,
     "metadata": {},
     "output_type": "execute_result"
    }
   ],
   "source": [
    "table.find_all('div',class_='sc-131di3y-0 cLgOOr')"
   ]
  },
  {
   "cell_type": "code",
   "execution_count": 57,
   "id": "24a35a26",
   "metadata": {},
   "outputs": [
    {
     "data": {
      "text/plain": [
       "[<div class=\"sc-131di3y-0 cLgOOr\"><a class=\"cmc-link\" href=\"/currencies/bitcoin/markets/\"><span>$42,517.17</span></a></div>,\n",
       " <div class=\"sc-131di3y-0 cLgOOr\"><a class=\"cmc-link\" href=\"/currencies/ethereum/markets/\"><span>$2,932.67</span></a></div>,\n",
       " <div class=\"sc-131di3y-0 cLgOOr\"><a class=\"cmc-link\" href=\"/currencies/tether/markets/\"><span>$1.00</span></a></div>,\n",
       " <div class=\"sc-131di3y-0 cLgOOr\"><a class=\"cmc-link\" href=\"/currencies/bnb/markets/\"><span>$404.69</span></a></div>,\n",
       " <div class=\"sc-131di3y-0 cLgOOr\"><a class=\"cmc-link\" href=\"/currencies/usd-coin/markets/\"><span>$0.9996</span></a></div>,\n",
       " <div class=\"sc-131di3y-0 cLgOOr\"><a class=\"cmc-link\" href=\"/currencies/xrp/markets/\"><span>$0.8276</span></a></div>,\n",
       " <div class=\"sc-131di3y-0 cLgOOr\"><a class=\"cmc-link\" href=\"/currencies/cardano/markets/\"><span>$1.07</span></a></div>,\n",
       " <div class=\"sc-131di3y-0 cLgOOr\"><a class=\"cmc-link\" href=\"/currencies/solana/markets/\"><span>$96.00</span></a></div>,\n",
       " <div class=\"sc-131di3y-0 cLgOOr\"><a class=\"cmc-link\" href=\"/currencies/terra-luna/markets/\"><span>$53.17</span></a></div>,\n",
       " <div class=\"sc-131di3y-0 cLgOOr\"><a class=\"cmc-link\" href=\"/currencies/dogecoin/markets/\"><span>$0.1547</span></a></div>]"
      ]
     },
     "execution_count": 57,
     "metadata": {},
     "output_type": "execute_result"
    }
   ],
   "source": [
    "price_div = table.find_all('div',class_='sc-131di3y-0 cLgOOr')\n",
    "price_div"
   ]
  },
  {
   "cell_type": "code",
   "execution_count": 62,
   "id": "1525165d",
   "metadata": {},
   "outputs": [
    {
     "data": {
      "text/plain": [
       "'$42,517.17'"
      ]
     },
     "execution_count": 62,
     "metadata": {},
     "output_type": "execute_result"
    }
   ],
   "source": [
    "price_div[0].find('span').text\n"
   ]
  },
  {
   "cell_type": "code",
   "execution_count": 63,
   "id": "76e73dfe",
   "metadata": {},
   "outputs": [],
   "source": [
    "price =[]\n",
    "\n",
    "for p in price_div:\n",
    "    s= p.find('span').text\n",
    "    price.append(s)\n",
    "    "
   ]
  },
  {
   "cell_type": "code",
   "execution_count": 64,
   "id": "3ada5d5d",
   "metadata": {},
   "outputs": [
    {
     "data": {
      "text/plain": [
       "['$42,517.17',\n",
       " '$2,932.67',\n",
       " '$1.00',\n",
       " '$404.69',\n",
       " '$0.9996',\n",
       " '$0.8276',\n",
       " '$1.07',\n",
       " '$96.00',\n",
       " '$53.17',\n",
       " '$0.1547']"
      ]
     },
     "execution_count": 64,
     "metadata": {},
     "output_type": "execute_result"
    }
   ],
   "source": [
    "price"
   ]
  },
  {
   "cell_type": "markdown",
   "id": "e4375993",
   "metadata": {},
   "source": [
    "### extracting marketcap"
   ]
  },
  {
   "cell_type": "code",
   "execution_count": 65,
   "id": "66a379ad",
   "metadata": {},
   "outputs": [
    {
     "data": {
      "text/plain": [
       "[<span class=\"sc-1ow4cwt-1 ieFnWP\">$805,994,168,941</span>,\n",
       " <span class=\"sc-1ow4cwt-1 ieFnWP\">$350,642,083,690</span>,\n",
       " <span class=\"sc-1ow4cwt-1 ieFnWP\">$78,466,193,878</span>,\n",
       " <span class=\"sc-1ow4cwt-1 ieFnWP\">$66,820,289,295</span>,\n",
       " <span class=\"sc-1ow4cwt-1 ieFnWP\">$52,346,567,643</span>,\n",
       " <span class=\"sc-1ow4cwt-1 ieFnWP\">$39,587,590,756</span>,\n",
       " <span class=\"sc-1ow4cwt-1 ieFnWP\">$35,834,260,210</span>,\n",
       " <span class=\"sc-1ow4cwt-1 ieFnWP\">$30,506,578,833</span>,\n",
       " <span class=\"sc-1ow4cwt-1 ieFnWP\">$21,146,376,133</span>,\n",
       " <span class=\"sc-1ow4cwt-1 ieFnWP\">$20,525,672,273</span>]"
      ]
     },
     "execution_count": 65,
     "metadata": {},
     "output_type": "execute_result"
    }
   ],
   "source": [
    "table.find_all('span',class_=\"sc-1ow4cwt-1 ieFnWP\")"
   ]
  },
  {
   "cell_type": "code",
   "execution_count": 66,
   "id": "dc342e6d",
   "metadata": {},
   "outputs": [],
   "source": [
    "market_cap = table.find_all('span',class_=\"sc-1ow4cwt-1 ieFnWP\")"
   ]
  },
  {
   "cell_type": "code",
   "execution_count": 68,
   "id": "554953cd",
   "metadata": {},
   "outputs": [
    {
     "data": {
      "text/plain": [
       "['$805,994,168,941',\n",
       " '$350,642,083,690',\n",
       " '$78,466,193,878',\n",
       " '$66,820,289,295',\n",
       " '$52,346,567,643',\n",
       " '$39,587,590,756',\n",
       " '$35,834,260,210',\n",
       " '$30,506,578,833',\n",
       " '$21,146,376,133',\n",
       " '$20,525,672,273']"
      ]
     },
     "execution_count": 68,
     "metadata": {},
     "output_type": "execute_result"
    }
   ],
   "source": [
    "market_cap = [m.text for m in market_cap]\n",
    "market_cap"
   ]
  },
  {
   "cell_type": "markdown",
   "id": "d1c20957",
   "metadata": {},
   "source": [
    "### extracting circulating supply"
   ]
  },
  {
   "cell_type": "code",
   "execution_count": 71,
   "id": "e88c9a16",
   "metadata": {},
   "outputs": [
    {
     "data": {
      "text/plain": [
       "[<p class=\"sc-1eb5slv-0 kZlTnE\" color=\"text\" font-size=\"1\" font-weight=\"medium\">18,956,912 BTC</p>,\n",
       " <p class=\"sc-1eb5slv-0 kZlTnE\" color=\"text\" font-size=\"1\" font-weight=\"medium\">119,564,241 ETH</p>,\n",
       " <p class=\"sc-1eb5slv-0 kZlTnE\" color=\"text\" font-size=\"1\" font-weight=\"medium\">78,423,051,214 USDT</p>,\n",
       " <p class=\"sc-1eb5slv-0 kZlTnE\" color=\"text\" font-size=\"1\" font-weight=\"medium\">165,116,761 BNB</p>,\n",
       " <p class=\"sc-1eb5slv-0 kZlTnE\" color=\"text\" font-size=\"1\" font-weight=\"medium\">52,369,492,616 USDC</p>,\n",
       " <p class=\"sc-1eb5slv-0 kZlTnE\" color=\"text\" font-size=\"1\" font-weight=\"medium\">47,832,461,678 XRP</p>,\n",
       " <p class=\"sc-1eb5slv-0 kZlTnE\" color=\"text\" font-size=\"1\" font-weight=\"medium\">33,609,494,436 ADA</p>,\n",
       " <p class=\"sc-1eb5slv-0 kZlTnE\" color=\"text\" font-size=\"1\" font-weight=\"medium\">317,765,765 SOL</p>,\n",
       " <p class=\"sc-1eb5slv-0 kZlTnE\" color=\"text\" font-size=\"1\" font-weight=\"medium\">397,726,794 LUNA</p>,\n",
       " <p class=\"sc-1eb5slv-0 kZlTnE\" color=\"text\" font-size=\"1\" font-weight=\"medium\">132,670,764,300 DOGE</p>]"
      ]
     },
     "execution_count": 71,
     "metadata": {},
     "output_type": "execute_result"
    }
   ],
   "source": [
    "table.find_all('p', class_=\"sc-1eb5slv-0 kZlTnE\")"
   ]
  },
  {
   "cell_type": "code",
   "execution_count": 72,
   "id": "f7a979be",
   "metadata": {},
   "outputs": [],
   "source": [
    "circu_supply = table.find_all('p', class_=\"sc-1eb5slv-0 kZlTnE\")"
   ]
  },
  {
   "cell_type": "code",
   "execution_count": 74,
   "id": "511f42ce",
   "metadata": {},
   "outputs": [
    {
     "data": {
      "text/plain": [
       "['18,956,912 BTC',\n",
       " '119,564,241 ETH',\n",
       " '78,423,051,214 USDT',\n",
       " '165,116,761 BNB',\n",
       " '52,369,492,616 USDC',\n",
       " '47,832,461,678 XRP',\n",
       " '33,609,494,436 ADA',\n",
       " '317,765,765 SOL',\n",
       " '397,726,794 LUNA',\n",
       " '132,670,764,300 DOGE']"
      ]
     },
     "execution_count": 74,
     "metadata": {},
     "output_type": "execute_result"
    }
   ],
   "source": [
    "circulating_supply = [c.text for c in circu_supply]\n",
    "circulating_supply"
   ]
  },
  {
   "cell_type": "code",
   "execution_count": 77,
   "id": "369e77be",
   "metadata": {},
   "outputs": [
    {
     "data": {
      "text/plain": [
       "'24h %'"
      ]
     },
     "execution_count": 77,
     "metadata": {},
     "output_type": "execute_result"
    }
   ],
   "source": [
    "headers.pop(2)"
   ]
  },
  {
   "cell_type": "code",
   "execution_count": 78,
   "id": "85945e74",
   "metadata": {},
   "outputs": [
    {
     "data": {
      "text/plain": [
       "['Name', 'Price', '7d %', 'Market Cap', 'Volume(24h)', 'Circulating Supply']"
      ]
     },
     "execution_count": 78,
     "metadata": {},
     "output_type": "execute_result"
    }
   ],
   "source": [
    "headers"
   ]
  },
  {
   "cell_type": "code",
   "execution_count": 79,
   "id": "a130781d",
   "metadata": {},
   "outputs": [],
   "source": [
    "headers.remove('7d %')"
   ]
  },
  {
   "cell_type": "code",
   "execution_count": 80,
   "id": "2853eb40",
   "metadata": {},
   "outputs": [],
   "source": [
    "headers.remove('Volume(24h)')"
   ]
  },
  {
   "cell_type": "code",
   "execution_count": 81,
   "id": "69bfcc16",
   "metadata": {},
   "outputs": [
    {
     "data": {
      "text/plain": [
       "['Name', 'Price', 'Market Cap', 'Circulating Supply']"
      ]
     },
     "execution_count": 81,
     "metadata": {},
     "output_type": "execute_result"
    }
   ],
   "source": [
    "headers"
   ]
  },
  {
   "cell_type": "markdown",
   "id": "302cd9ef",
   "metadata": {},
   "source": [
    "## importing pandas for creating dataframe"
   ]
  },
  {
   "cell_type": "code",
   "execution_count": 82,
   "id": "a7f8b966",
   "metadata": {},
   "outputs": [],
   "source": [
    "import pandas as pd"
   ]
  },
  {
   "cell_type": "code",
   "execution_count": 83,
   "id": "1029df44",
   "metadata": {},
   "outputs": [],
   "source": [
    "crypto_data = pd.DataFrame()"
   ]
  },
  {
   "cell_type": "code",
   "execution_count": 84,
   "id": "dc306f44",
   "metadata": {},
   "outputs": [],
   "source": [
    "crypto_data['Name'] = name"
   ]
  },
  {
   "cell_type": "code",
   "execution_count": 85,
   "id": "24d9c207",
   "metadata": {},
   "outputs": [],
   "source": [
    "crypto_data['Symbol'] = symbol"
   ]
  },
  {
   "cell_type": "code",
   "execution_count": 86,
   "id": "1fa05030",
   "metadata": {},
   "outputs": [],
   "source": [
    "crypto_data['Price'] = price"
   ]
  },
  {
   "cell_type": "code",
   "execution_count": 87,
   "id": "e688274a",
   "metadata": {},
   "outputs": [],
   "source": [
    "crypto_data['Market_Cap'] = market_cap"
   ]
  },
  {
   "cell_type": "code",
   "execution_count": 88,
   "id": "a2bd99fa",
   "metadata": {},
   "outputs": [],
   "source": [
    "crypto_data['Circilating_supply'] = circulating_supply"
   ]
  },
  {
   "cell_type": "code",
   "execution_count": 89,
   "id": "1c3121be",
   "metadata": {},
   "outputs": [
    {
     "data": {
      "text/html": [
       "<div>\n",
       "<style scoped>\n",
       "    .dataframe tbody tr th:only-of-type {\n",
       "        vertical-align: middle;\n",
       "    }\n",
       "\n",
       "    .dataframe tbody tr th {\n",
       "        vertical-align: top;\n",
       "    }\n",
       "\n",
       "    .dataframe thead th {\n",
       "        text-align: right;\n",
       "    }\n",
       "</style>\n",
       "<table border=\"1\" class=\"dataframe\">\n",
       "  <thead>\n",
       "    <tr style=\"text-align: right;\">\n",
       "      <th></th>\n",
       "      <th>Name</th>\n",
       "      <th>Symbol</th>\n",
       "      <th>Price</th>\n",
       "      <th>Market_Cap</th>\n",
       "      <th>Circilating_supply</th>\n",
       "    </tr>\n",
       "  </thead>\n",
       "  <tbody>\n",
       "    <tr>\n",
       "      <th>0</th>\n",
       "      <td>Bitcoin</td>\n",
       "      <td>BTC</td>\n",
       "      <td>$42,517.17</td>\n",
       "      <td>$805,994,168,941</td>\n",
       "      <td>18,956,912 BTC</td>\n",
       "    </tr>\n",
       "    <tr>\n",
       "      <th>1</th>\n",
       "      <td>Ethereum</td>\n",
       "      <td>ETH</td>\n",
       "      <td>$2,932.67</td>\n",
       "      <td>$350,642,083,690</td>\n",
       "      <td>119,564,241 ETH</td>\n",
       "    </tr>\n",
       "    <tr>\n",
       "      <th>2</th>\n",
       "      <td>Tether</td>\n",
       "      <td>USDT</td>\n",
       "      <td>$1.00</td>\n",
       "      <td>$78,466,193,878</td>\n",
       "      <td>78,423,051,214 USDT</td>\n",
       "    </tr>\n",
       "    <tr>\n",
       "      <th>3</th>\n",
       "      <td>BNB</td>\n",
       "      <td>BNB</td>\n",
       "      <td>$404.69</td>\n",
       "      <td>$66,820,289,295</td>\n",
       "      <td>165,116,761 BNB</td>\n",
       "    </tr>\n",
       "    <tr>\n",
       "      <th>4</th>\n",
       "      <td>USD Coin</td>\n",
       "      <td>USDC</td>\n",
       "      <td>$0.9996</td>\n",
       "      <td>$52,346,567,643</td>\n",
       "      <td>52,369,492,616 USDC</td>\n",
       "    </tr>\n",
       "    <tr>\n",
       "      <th>5</th>\n",
       "      <td>XRP</td>\n",
       "      <td>XRP</td>\n",
       "      <td>$0.8276</td>\n",
       "      <td>$39,587,590,756</td>\n",
       "      <td>47,832,461,678 XRP</td>\n",
       "    </tr>\n",
       "    <tr>\n",
       "      <th>6</th>\n",
       "      <td>Cardano</td>\n",
       "      <td>ADA</td>\n",
       "      <td>$1.07</td>\n",
       "      <td>$35,834,260,210</td>\n",
       "      <td>33,609,494,436 ADA</td>\n",
       "    </tr>\n",
       "    <tr>\n",
       "      <th>7</th>\n",
       "      <td>Solana</td>\n",
       "      <td>SOL</td>\n",
       "      <td>$96.00</td>\n",
       "      <td>$30,506,578,833</td>\n",
       "      <td>317,765,765 SOL</td>\n",
       "    </tr>\n",
       "    <tr>\n",
       "      <th>8</th>\n",
       "      <td>Terra</td>\n",
       "      <td>LUNA</td>\n",
       "      <td>$53.17</td>\n",
       "      <td>$21,146,376,133</td>\n",
       "      <td>397,726,794 LUNA</td>\n",
       "    </tr>\n",
       "    <tr>\n",
       "      <th>9</th>\n",
       "      <td>Dogecoin</td>\n",
       "      <td>DOGE</td>\n",
       "      <td>$0.1547</td>\n",
       "      <td>$20,525,672,273</td>\n",
       "      <td>132,670,764,300 DOGE</td>\n",
       "    </tr>\n",
       "  </tbody>\n",
       "</table>\n",
       "</div>"
      ],
      "text/plain": [
       "       Name Symbol       Price        Market_Cap    Circilating_supply\n",
       "0   Bitcoin    BTC  $42,517.17  $805,994,168,941        18,956,912 BTC\n",
       "1  Ethereum    ETH   $2,932.67  $350,642,083,690       119,564,241 ETH\n",
       "2    Tether   USDT       $1.00   $78,466,193,878   78,423,051,214 USDT\n",
       "3       BNB    BNB     $404.69   $66,820,289,295       165,116,761 BNB\n",
       "4  USD Coin   USDC     $0.9996   $52,346,567,643   52,369,492,616 USDC\n",
       "5       XRP    XRP     $0.8276   $39,587,590,756    47,832,461,678 XRP\n",
       "6   Cardano    ADA       $1.07   $35,834,260,210    33,609,494,436 ADA\n",
       "7    Solana    SOL      $96.00   $30,506,578,833       317,765,765 SOL\n",
       "8     Terra   LUNA      $53.17   $21,146,376,133      397,726,794 LUNA\n",
       "9  Dogecoin   DOGE     $0.1547   $20,525,672,273  132,670,764,300 DOGE"
      ]
     },
     "execution_count": 89,
     "metadata": {},
     "output_type": "execute_result"
    }
   ],
   "source": [
    "crypto_data"
   ]
  },
  {
   "cell_type": "code",
   "execution_count": 90,
   "id": "92bd3a0f",
   "metadata": {},
   "outputs": [],
   "source": [
    "crypto_data.to_csv('cryptocurrency_data.csv')"
   ]
  },
  {
   "cell_type": "code",
   "execution_count": null,
   "id": "9053bfac",
   "metadata": {},
   "outputs": [],
   "source": []
  }
 ],
 "metadata": {
  "kernelspec": {
   "display_name": "Python 3",
   "language": "python",
   "name": "python3"
  },
  "language_info": {
   "codemirror_mode": {
    "name": "ipython",
    "version": 3
   },
   "file_extension": ".py",
   "mimetype": "text/x-python",
   "name": "python",
   "nbconvert_exporter": "python",
   "pygments_lexer": "ipython3",
   "version": "3.8.8"
  }
 },
 "nbformat": 4,
 "nbformat_minor": 5
}
