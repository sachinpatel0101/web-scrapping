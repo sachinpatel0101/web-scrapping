{
 "cells": [
  {
   "cell_type": "markdown",
   "id": "611a3fa4",
   "metadata": {},
   "source": [
    "# scraping Netflix series data from Rotten Tomatoes"
   ]
  },
  {
   "cell_type": "markdown",
   "id": "44608e15",
   "metadata": {},
   "source": [
    "## set up"
   ]
  },
  {
   "cell_type": "code",
   "execution_count": 1,
   "id": "93d9a026",
   "metadata": {},
   "outputs": [],
   "source": [
    "import requests\n",
    "from bs4 import BeautifulSoup"
   ]
  },
  {
   "cell_type": "code",
   "execution_count": 2,
   "id": "6644af25",
   "metadata": {},
   "outputs": [],
   "source": [
    "base_site = \"https://editorial.rottentomatoes.com/guide/best-netflix-shows-and-movies-to-binge-watch-now/\""
   ]
  },
  {
   "cell_type": "code",
   "execution_count": 3,
   "id": "e1d6e7df",
   "metadata": {},
   "outputs": [
    {
     "data": {
      "text/plain": [
       "<Response [200]>"
      ]
     },
     "execution_count": 3,
     "metadata": {},
     "output_type": "execute_result"
    }
   ],
   "source": [
    "response = requests.get(base_site)\n",
    "response"
   ]
  },
  {
   "cell_type": "code",
   "execution_count": 4,
   "id": "10529376",
   "metadata": {},
   "outputs": [
    {
     "data": {
      "text/plain": [
       "200"
      ]
     },
     "execution_count": 4,
     "metadata": {},
     "output_type": "execute_result"
    }
   ],
   "source": [
    "response.status_code"
   ]
  },
  {
   "cell_type": "code",
   "execution_count": 5,
   "id": "dc24976f",
   "metadata": {},
   "outputs": [],
   "source": [
    "html = response.content"
   ]
  },
  {
   "cell_type": "code",
   "execution_count": 6,
   "id": "60e1631a",
   "metadata": {},
   "outputs": [
    {
     "data": {
      "text/plain": [
       "bytes"
      ]
     },
     "execution_count": 6,
     "metadata": {},
     "output_type": "execute_result"
    }
   ],
   "source": [
    "type(html)"
   ]
  },
  {
   "cell_type": "markdown",
   "id": "fe71c173",
   "metadata": {},
   "source": [
    "## making a soup"
   ]
  },
  {
   "cell_type": "code",
   "execution_count": 7,
   "id": "8fa7e57c",
   "metadata": {},
   "outputs": [],
   "source": [
    "soup = BeautifulSoup(html,'lxml')"
   ]
  },
  {
   "cell_type": "code",
   "execution_count": 8,
   "id": "c3d7e97a",
   "metadata": {},
   "outputs": [],
   "source": [
    "# saving this soup object to a html file for any refrence.\n",
    "\n",
    "with open('Rotten_tomatoes_netflix.html','wb') as file:\n",
    "    \n",
    "    file.write(soup.prettify('utf-8'))"
   ]
  },
  {
   "cell_type": "markdown",
   "id": "2e9e5793",
   "metadata": {},
   "source": [
    "## Finding element containing all data"
   ]
  },
  {
   "cell_type": "markdown",
   "id": "f611908a",
   "metadata": {},
   "source": [
    "we need movie names, release year and its ratings on rotten tomatoes. so we inspected the html code in chrome and found the relevent tags in which we can find related information."
   ]
  },
  {
   "cell_type": "code",
   "execution_count": 9,
   "id": "d89f2751",
   "metadata": {},
   "outputs": [],
   "source": [
    "divs = soup.find_all('div',{'class': 'col-sm-18 col-full-xs countdown-item-content'})"
   ]
  },
  {
   "cell_type": "code",
   "execution_count": 11,
   "id": "a70c1f49",
   "metadata": {},
   "outputs": [
    {
     "data": {
      "text/plain": [
       "214"
      ]
     },
     "execution_count": 11,
     "metadata": {},
     "output_type": "execute_result"
    }
   ],
   "source": [
    "len(divs)"
   ]
  },
  {
   "cell_type": "code",
   "execution_count": 12,
   "id": "f7894360",
   "metadata": {
    "scrolled": false
   },
   "outputs": [
    {
     "data": {
      "text/plain": [
       "<div class=\"col-sm-18 col-full-xs countdown-item-content\">\n",
       "<div class=\"row countdown-item-title-bar\">\n",
       "<div class=\"col-sm-20 col-full-xs\" style=\"height: 100%;\">\n",
       "<div class=\"article_movie_title\" style=\"float: left;\">\n",
       "<h2><a href=\"//www.rottentomatoes.com/tv/on_the_verge\">On the Verge</a> <span class=\"subtle start-year\">(2021)</span> <span class=\"icon tiny fresh\" title=\"Fresh\"></span> <span class=\"tMeterScore\">60%</span></h2>\n",
       "</div>\n",
       "</div>\n",
       "<div class=\"col-sm-4 col-full-xs\" style=\"height: 100%;\">\n",
       "<div class=\"countdown-index\">#214</div>\n",
       "</div>\n",
       "</div>\n",
       "<div class=\"row countdown-item-details\">\n",
       "<div class=\"col-sm-24\">\n",
       "<div class=\"info synopsis\"><span class=\"descriptor\">Synopsis:</span> Four women -- a chef, a single mother, an heiress, and a job seeker -- dig into love, work and...<a class=\"\" data-pageheader=\"\" href=\"//www.rottentomatoes.com/tv/on_the_verge\" target=\"_top\"> [More]</a></div>\n",
       "<div class=\"info cast\">\n",
       "<span class=\"descriptor\">Starring:</span> <a class=\"\" href=\"//www.rottentomatoes.com/celebrity/julie_delpy\">Julie Delpy</a>, <a class=\"\" href=\"//www.rottentomatoes.com/celebrity/elisabeth_shue\">Elisabeth Shue</a>, <a class=\"\" href=\"//www.rottentomatoes.com/celebrity/sarah_jones_5\">Sarah Jones</a>, <a class=\"\" href=\"//www.rottentomatoes.com/celebrity/alexia_landeau\">Alexia Landeau</a></div>\n",
       "<div class=\"info director\">\n",
       "<span class=\"descriptor\">Directed By:</span> <a class=\"\" href=\"//www.rottentomatoes.com/celebrity/julie_delpy\">Julie Delpy</a>, <a class=\"\" href=\"//www.rottentomatoes.com/celebrity/elisabeth_shue\">Elisabeth Shue</a>, <a class=\"\" href=\"//www.rottentomatoes.com/celebrity/michael_gentile\">Michael Gentile</a>, <a class=\"\" href=\"//www.rottentomatoes.com/celebrity/lauraine_heftler\">Lauraine Heftler</a></div>\n",
       "</div>\n",
       "</div>\n",
       "</div>"
      ]
     },
     "execution_count": 12,
     "metadata": {},
     "output_type": "execute_result"
    }
   ],
   "source": [
    "divs[0]"
   ]
  },
  {
   "cell_type": "markdown",
   "id": "f8bf5860",
   "metadata": {},
   "source": [
    "### our content is under h2 tag. so we will now get all h2 tag."
   ]
  },
  {
   "cell_type": "code",
   "execution_count": 13,
   "id": "f44c72fe",
   "metadata": {},
   "outputs": [
    {
     "data": {
      "text/plain": [
       "<h2><a href=\"//www.rottentomatoes.com/tv/on_the_verge\">On the Verge</a> <span class=\"subtle start-year\">(2021)</span> <span class=\"icon tiny fresh\" title=\"Fresh\"></span> <span class=\"tMeterScore\">60%</span></h2>"
      ]
     },
     "execution_count": 13,
     "metadata": {},
     "output_type": "execute_result"
    }
   ],
   "source": [
    "# .find() will not work on list object. so take single element form list an apply on it.\n",
    "\n",
    "divs[0].find('h2')"
   ]
  },
  {
   "cell_type": "code",
   "execution_count": 10,
   "id": "8af5423b",
   "metadata": {},
   "outputs": [
    {
     "data": {
      "text/plain": [
       "<h2><a href=\"//www.rottentomatoes.com/tv/on_the_verge\">On the Verge</a> <span class=\"subtle start-year\">(2021)</span> <span class=\"icon tiny fresh\" title=\"Fresh\"></span> <span class=\"tMeterScore\">60%</span></h2>"
      ]
     },
     "execution_count": 10,
     "metadata": {},
     "output_type": "execute_result"
    }
   ],
   "source": [
    "h2_tags = [div.find('h2') for div in divs ]\n",
    "h2_tags[0]"
   ]
  },
  {
   "cell_type": "code",
   "execution_count": 12,
   "id": "46ce4526",
   "metadata": {
    "scrolled": false
   },
   "outputs": [
    {
     "data": {
      "text/plain": [
       "['On the Verge (2021)  60%',\n",
       " 'Anne With an E (2017)  53%',\n",
       " 'Derek (2013)  60%',\n",
       " 'Ratched (2020)  61%',\n",
       " 'Behind Her Eyes (2021)  62%',\n",
       " 'Bloodline (2015)  62%',\n",
       " 'White Lines (2020)  64%',\n",
       " \"Marvel's The Punisher (2017)  64%\",\n",
       " 'The Duchess (2020)  65%',\n",
       " 'Lilyhammer (2012)  65%']"
      ]
     },
     "execution_count": 12,
     "metadata": {},
     "output_type": "execute_result"
    }
   ],
   "source": [
    "# assessing h2_tags for text inside\n",
    "\n",
    "[h.text for h in h2_tags][:10]"
   ]
  },
  {
   "cell_type": "code",
   "execution_count": 16,
   "id": "72299f94",
   "metadata": {},
   "outputs": [
    {
     "data": {
      "text/plain": [
       "'On the Verge'"
      ]
     },
     "execution_count": 16,
     "metadata": {},
     "output_type": "execute_result"
    }
   ],
   "source": [
    "h2_tags[0].find('a').string"
   ]
  },
  {
   "cell_type": "markdown",
   "id": "81119fd2",
   "metadata": {},
   "source": [
    "## extracting movie names"
   ]
  },
  {
   "cell_type": "code",
   "execution_count": 13,
   "id": "346ca16a",
   "metadata": {},
   "outputs": [
    {
     "data": {
      "text/plain": [
       "['On the Verge',\n",
       " 'Anne With an E',\n",
       " 'Derek',\n",
       " 'Ratched',\n",
       " 'Behind Her Eyes',\n",
       " 'Bloodline',\n",
       " 'White Lines',\n",
       " \"Marvel's The Punisher\",\n",
       " 'The Duchess',\n",
       " 'Lilyhammer']"
      ]
     },
     "execution_count": 13,
     "metadata": {},
     "output_type": "execute_result"
    }
   ],
   "source": [
    "movie_names = [m.find('a').string for m in h2_tags]\n",
    "movie_names[:10]"
   ]
  },
  {
   "cell_type": "markdown",
   "id": "2dd5e1bb",
   "metadata": {},
   "source": [
    "## extracting year"
   ]
  },
  {
   "cell_type": "code",
   "execution_count": 18,
   "id": "bf57b27c",
   "metadata": {},
   "outputs": [
    {
     "data": {
      "text/plain": [
       "<span class=\"subtle start-year\">(2021)</span>"
      ]
     },
     "execution_count": 18,
     "metadata": {},
     "output_type": "execute_result"
    }
   ],
   "source": [
    "h2_tags[0].find('span',{'class':'subtle start-year'})"
   ]
  },
  {
   "cell_type": "code",
   "execution_count": 14,
   "id": "a9d38f9a",
   "metadata": {},
   "outputs": [
    {
     "data": {
      "text/plain": [
       "['(2021)',\n",
       " '(2017)',\n",
       " '(2013)',\n",
       " '(2020)',\n",
       " '(2021)',\n",
       " '(2015)',\n",
       " '(2020)',\n",
       " '(2017)',\n",
       " '(2020)',\n",
       " '(2012)']"
      ]
     },
     "execution_count": 14,
     "metadata": {},
     "output_type": "execute_result"
    }
   ],
   "source": [
    "years = [s.find('span',{'class':'subtle start-year'}).string for s in h2_tags]\n",
    "years[:10]"
   ]
  },
  {
   "cell_type": "code",
   "execution_count": 15,
   "id": "40db9544",
   "metadata": {},
   "outputs": [
    {
     "data": {
      "text/plain": [
       "['2021',\n",
       " '2017',\n",
       " '2013',\n",
       " '2020',\n",
       " '2021',\n",
       " '2015',\n",
       " '2020',\n",
       " '2017',\n",
       " '2020',\n",
       " '2012']"
      ]
     },
     "execution_count": 15,
     "metadata": {},
     "output_type": "execute_result"
    }
   ],
   "source": [
    "years = [y.strip('()') for y in years]\n",
    "years[:10]"
   ]
  },
  {
   "cell_type": "code",
   "execution_count": 21,
   "id": "7c6aa26d",
   "metadata": {},
   "outputs": [
    {
     "data": {
      "text/plain": [
       "str"
      ]
     },
     "execution_count": 21,
     "metadata": {},
     "output_type": "execute_result"
    }
   ],
   "source": [
    "type(years[0])"
   ]
  },
  {
   "cell_type": "code",
   "execution_count": 16,
   "id": "f1a8e113",
   "metadata": {},
   "outputs": [
    {
     "data": {
      "text/plain": [
       "[2021, 2017, 2013, 2020, 2021, 2015, 2020, 2017, 2020, 2012]"
      ]
     },
     "execution_count": 16,
     "metadata": {},
     "output_type": "execute_result"
    }
   ],
   "source": [
    "years = [int(y) for y in years]\n",
    "years[:10]"
   ]
  },
  {
   "cell_type": "markdown",
   "id": "38c67840",
   "metadata": {},
   "source": [
    "## extracting ratings"
   ]
  },
  {
   "cell_type": "code",
   "execution_count": 44,
   "id": "33ff0db5",
   "metadata": {},
   "outputs": [
    {
     "data": {
      "text/plain": [
       "<span class=\"tMeterScore\">60%</span>"
      ]
     },
     "execution_count": 44,
     "metadata": {},
     "output_type": "execute_result"
    }
   ],
   "source": [
    "h2_tags[0].find('span',{'class':'tMeterScore'})"
   ]
  },
  {
   "cell_type": "code",
   "execution_count": 17,
   "id": "49767465",
   "metadata": {},
   "outputs": [
    {
     "data": {
      "text/plain": [
       "['60%', '53%', '60%', '61%', '62%', '62%', '64%', '64%', '65%', '65%']"
      ]
     },
     "execution_count": 17,
     "metadata": {},
     "output_type": "execute_result"
    }
   ],
   "source": [
    "scores = [s.find('span',{'class':'tMeterScore'}).string for s in h2_tags]\n",
    "scores[:10]"
   ]
  },
  {
   "cell_type": "code",
   "execution_count": 46,
   "id": "aa59e8aa",
   "metadata": {},
   "outputs": [
    {
     "data": {
      "text/plain": [
       "'60'"
      ]
     },
     "execution_count": 46,
     "metadata": {},
     "output_type": "execute_result"
    }
   ],
   "source": [
    "scores[0][:-1]"
   ]
  },
  {
   "cell_type": "code",
   "execution_count": 47,
   "id": "9b25d7e6",
   "metadata": {},
   "outputs": [
    {
     "data": {
      "text/plain": [
       "bs4.element.NavigableString"
      ]
     },
     "execution_count": 47,
     "metadata": {},
     "output_type": "execute_result"
    }
   ],
   "source": [
    "type(scores[0])"
   ]
  },
  {
   "cell_type": "code",
   "execution_count": 48,
   "id": "7469683d",
   "metadata": {},
   "outputs": [
    {
     "ename": "AttributeError",
     "evalue": "'NoneType' object has no attribute 'strip'",
     "output_type": "error",
     "traceback": [
      "\u001b[1;31m---------------------------------------------------------------------------\u001b[0m",
      "\u001b[1;31mAttributeError\u001b[0m                            Traceback (most recent call last)",
      "\u001b[1;32m<ipython-input-48-7cbcca8d52cf>\u001b[0m in \u001b[0;36m<module>\u001b[1;34m\u001b[0m\n\u001b[1;32m----> 1\u001b[1;33m \u001b[0mscores\u001b[0m \u001b[1;33m=\u001b[0m \u001b[1;33m[\u001b[0m\u001b[0ms\u001b[0m\u001b[1;33m.\u001b[0m\u001b[0mstrip\u001b[0m\u001b[1;33m(\u001b[0m\u001b[1;34m'%'\u001b[0m\u001b[1;33m)\u001b[0m \u001b[1;32mfor\u001b[0m \u001b[0ms\u001b[0m \u001b[1;32min\u001b[0m \u001b[0mscores\u001b[0m\u001b[1;33m]\u001b[0m\u001b[1;33m\u001b[0m\u001b[1;33m\u001b[0m\u001b[0m\n\u001b[0m\u001b[0;32m      2\u001b[0m \u001b[0mscores\u001b[0m\u001b[1;33m\u001b[0m\u001b[1;33m\u001b[0m\u001b[0m\n",
      "\u001b[1;32m<ipython-input-48-7cbcca8d52cf>\u001b[0m in \u001b[0;36m<listcomp>\u001b[1;34m(.0)\u001b[0m\n\u001b[1;32m----> 1\u001b[1;33m \u001b[0mscores\u001b[0m \u001b[1;33m=\u001b[0m \u001b[1;33m[\u001b[0m\u001b[0ms\u001b[0m\u001b[1;33m.\u001b[0m\u001b[0mstrip\u001b[0m\u001b[1;33m(\u001b[0m\u001b[1;34m'%'\u001b[0m\u001b[1;33m)\u001b[0m \u001b[1;32mfor\u001b[0m \u001b[0ms\u001b[0m \u001b[1;32min\u001b[0m \u001b[0mscores\u001b[0m\u001b[1;33m]\u001b[0m\u001b[1;33m\u001b[0m\u001b[1;33m\u001b[0m\u001b[0m\n\u001b[0m\u001b[0;32m      2\u001b[0m \u001b[0mscores\u001b[0m\u001b[1;33m\u001b[0m\u001b[1;33m\u001b[0m\u001b[0m\n",
      "\u001b[1;31mAttributeError\u001b[0m: 'NoneType' object has no attribute 'strip'"
     ]
    }
   ],
   "source": [
    "scores = [s.strip('%') for s in scores]\n",
    "scores"
   ]
  },
  {
   "cell_type": "code",
   "execution_count": 18,
   "id": "f896ce04",
   "metadata": {},
   "outputs": [
    {
     "data": {
      "text/plain": [
       "['60', '53', '60', '61', '62', '62', '64', '64', '65', '65']"
      ]
     },
     "execution_count": 18,
     "metadata": {},
     "output_type": "execute_result"
    }
   ],
   "source": [
    "# if at some places string is missing then it is replaced with 'none' so to counter this kind of error we will use\n",
    "# if and else condition inside a list comprehension.\n",
    "\n",
    "scores = [None if s is None else s.strip('%') for s in scores]\n",
    "scores[:10]"
   ]
  },
  {
   "cell_type": "code",
   "execution_count": 50,
   "id": "e20e0493",
   "metadata": {},
   "outputs": [
    {
     "data": {
      "text/plain": [
       "60"
      ]
     },
     "execution_count": 50,
     "metadata": {},
     "output_type": "execute_result"
    }
   ],
   "source": [
    "int(scores[0])"
   ]
  },
  {
   "cell_type": "code",
   "execution_count": 19,
   "id": "e2032fe8",
   "metadata": {},
   "outputs": [
    {
     "data": {
      "text/plain": [
       "[60, 53, 60, 61, 62, 62, 64, 64, 65, 65]"
      ]
     },
     "execution_count": 19,
     "metadata": {},
     "output_type": "execute_result"
    }
   ],
   "source": [
    "scores = [None if s is None else int(s) for s in scores]\n",
    "scores[:10]"
   ]
  },
  {
   "cell_type": "markdown",
   "id": "3c3c84d1",
   "metadata": {},
   "source": [
    "## Extracting rest of the information"
   ]
  },
  {
   "cell_type": "markdown",
   "id": "46221ea2",
   "metadata": {},
   "source": [
    "### extracting Synopsis:"
   ]
  },
  {
   "cell_type": "code",
   "execution_count": 52,
   "id": "f97200f0",
   "metadata": {},
   "outputs": [
    {
     "data": {
      "text/plain": [
       "<div class=\"col-sm-18 col-full-xs countdown-item-content\">\n",
       "<div class=\"row countdown-item-title-bar\">\n",
       "<div class=\"col-sm-20 col-full-xs\" style=\"height: 100%;\">\n",
       "<div class=\"article_movie_title\" style=\"float: left;\">\n",
       "<h2><a href=\"//www.rottentomatoes.com/tv/on_the_verge\">On the Verge</a> <span class=\"subtle start-year\">(2021)</span> <span class=\"icon tiny fresh\" title=\"Fresh\"></span> <span class=\"tMeterScore\">60%</span></h2>\n",
       "</div>\n",
       "</div>\n",
       "<div class=\"col-sm-4 col-full-xs\" style=\"height: 100%;\">\n",
       "<div class=\"countdown-index\">#214</div>\n",
       "</div>\n",
       "</div>\n",
       "<div class=\"row countdown-item-details\">\n",
       "<div class=\"col-sm-24\">\n",
       "<div class=\"info synopsis\"><span class=\"descriptor\">Synopsis:</span> Four women -- a chef, a single mother, an heiress, and a job seeker -- dig into love, work and...<a class=\"\" data-pageheader=\"\" href=\"//www.rottentomatoes.com/tv/on_the_verge\" target=\"_top\"> [More]</a></div>\n",
       "<div class=\"info cast\">\n",
       "<span class=\"descriptor\">Starring:</span> <a class=\"\" href=\"//www.rottentomatoes.com/celebrity/julie_delpy\">Julie Delpy</a>, <a class=\"\" href=\"//www.rottentomatoes.com/celebrity/elisabeth_shue\">Elisabeth Shue</a>, <a class=\"\" href=\"//www.rottentomatoes.com/celebrity/sarah_jones_5\">Sarah Jones</a>, <a class=\"\" href=\"//www.rottentomatoes.com/celebrity/alexia_landeau\">Alexia Landeau</a></div>\n",
       "<div class=\"info director\">\n",
       "<span class=\"descriptor\">Directed By:</span> <a class=\"\" href=\"//www.rottentomatoes.com/celebrity/julie_delpy\">Julie Delpy</a>, <a class=\"\" href=\"//www.rottentomatoes.com/celebrity/elisabeth_shue\">Elisabeth Shue</a>, <a class=\"\" href=\"//www.rottentomatoes.com/celebrity/michael_gentile\">Michael Gentile</a>, <a class=\"\" href=\"//www.rottentomatoes.com/celebrity/lauraine_heftler\">Lauraine Heftler</a></div>\n",
       "</div>\n",
       "</div>\n",
       "</div>"
      ]
     },
     "execution_count": 52,
     "metadata": {},
     "output_type": "execute_result"
    }
   ],
   "source": [
    "divs[0]"
   ]
  },
  {
   "cell_type": "code",
   "execution_count": 61,
   "id": "36a95c77",
   "metadata": {},
   "outputs": [
    {
     "data": {
      "text/plain": [
       "'Synopsis: Four women -- a chef, a single mother, an heiress, and a job seeker -- dig into love, work and... [More]'"
      ]
     },
     "execution_count": 61,
     "metadata": {},
     "output_type": "execute_result"
    }
   ],
   "source": [
    "divs[0].find('div',{'class':'info synopsis'}).text"
   ]
  },
  {
   "cell_type": "code",
   "execution_count": 20,
   "id": "6f717cf5",
   "metadata": {},
   "outputs": [
    {
     "data": {
      "text/plain": [
       "<div class=\"info synopsis\"><span class=\"descriptor\">Synopsis:</span> Four women -- a chef, a single mother, an heiress, and a job seeker -- dig into love, work and...<a class=\"\" data-pageheader=\"\" href=\"//www.rottentomatoes.com/tv/on_the_verge\" target=\"_top\"> [More]</a></div>"
      ]
     },
     "execution_count": 20,
     "metadata": {},
     "output_type": "execute_result"
    }
   ],
   "source": [
    "synopsis = [syn.find('div',{'class':'info synopsis'}) for syn in divs]\n",
    "synopsis[0]"
   ]
  },
  {
   "cell_type": "code",
   "execution_count": 105,
   "id": "f7eb5be8",
   "metadata": {},
   "outputs": [
    {
     "data": {
      "text/plain": [
       "bs4.element.Tag"
      ]
     },
     "execution_count": 105,
     "metadata": {},
     "output_type": "execute_result"
    }
   ],
   "source": [
    "type(synopsis[0])"
   ]
  },
  {
   "cell_type": "code",
   "execution_count": 106,
   "id": "076a4d88",
   "metadata": {},
   "outputs": [
    {
     "data": {
      "text/plain": [
       "'Synopsis: Four women -- a chef, a single mother, an heiress, and a job seeker -- dig into love, work and... [More]'"
      ]
     },
     "execution_count": 106,
     "metadata": {},
     "output_type": "execute_result"
    }
   ],
   "source": [
    "synopsis[0].get_text()"
   ]
  },
  {
   "cell_type": "code",
   "execution_count": 107,
   "id": "ef88ce27",
   "metadata": {},
   "outputs": [
    {
     "data": {
      "text/plain": [
       "[<span class=\"descriptor\">Synopsis:</span>,\n",
       " ' Four women -- a chef, a single mother, an heiress, and a job seeker -- dig into love, work and...',\n",
       " <a class=\"\" data-pageheader=\"\" href=\"//www.rottentomatoes.com/tv/on_the_verge\" target=\"_top\"> [More]</a>]"
      ]
     },
     "execution_count": 107,
     "metadata": {},
     "output_type": "execute_result"
    }
   ],
   "source": [
    "synopsis[0].contents"
   ]
  },
  {
   "cell_type": "code",
   "execution_count": 111,
   "id": "da98b487",
   "metadata": {},
   "outputs": [
    {
     "data": {
      "text/plain": [
       "'Four women -- a chef, a single mother, an heiress, and a job seeker -- dig into love, work and...'"
      ]
     },
     "execution_count": 111,
     "metadata": {},
     "output_type": "execute_result"
    }
   ],
   "source": [
    "synopsis[0].contents[1].strip()"
   ]
  },
  {
   "cell_type": "code",
   "execution_count": 21,
   "id": "ef60e0e6",
   "metadata": {},
   "outputs": [
    {
     "data": {
      "text/plain": [
       "['Four women -- a chef, a single mother, an heiress, and a job seeker -- dig into love, work and...',\n",
       " 'This reimagining of the classic book and film is a coming-of-age story about a young orphan who is seeking love,...',\n",
       " \"A documentary-style comedy-drama follows a group of people living on the fringe of society. At the group's core is Derek...\",\n",
       " 'A young nurse at a mental institution becomes jaded and bitter before turning into a full-fledged monster to her patients....',\n",
       " 'A single mother enters a world of twisted mind games when she begins an affair with her psychiatrist boss while...',\n",
       " 'From the creators of \"Damages,\" \"Bloodline\" is a dramatic thriller that explores the demons lurking beneath the surface of a...',\n",
       " \"Zoe Walker leaves her quiet life behind to investigate her brother's disappearance in Ibiza, where she heads down a decadent...\",\n",
       " 'After exacting revenge on the people responsible for the deaths of his wife and children, Frank Castle uncovers a conspiracy...',\n",
       " 'In London, single mother Katherine juggles her career, her tween daughter and her relationship with her boyfriend -- all while...',\n",
       " 'A mobster-turned-witness moves to Norway hide from his enemies....']"
      ]
     },
     "execution_count": 21,
     "metadata": {},
     "output_type": "execute_result"
    }
   ],
   "source": [
    "synopsis_text = [ None if s is None else s.contents[1].strip() for s in synopsis]\n",
    "synopsis_text[:10]"
   ]
  },
  {
   "cell_type": "markdown",
   "id": "19c49f9a",
   "metadata": {},
   "source": [
    "## extracting cast"
   ]
  },
  {
   "cell_type": "code",
   "execution_count": 118,
   "id": "b1d51cc4",
   "metadata": {},
   "outputs": [
    {
     "data": {
      "text/plain": [
       "[<a class=\"\" href=\"//www.rottentomatoes.com/celebrity/julie_delpy\">Julie Delpy</a>,\n",
       " <a class=\"\" href=\"//www.rottentomatoes.com/celebrity/elisabeth_shue\">Elisabeth Shue</a>,\n",
       " <a class=\"\" href=\"//www.rottentomatoes.com/celebrity/sarah_jones_5\">Sarah Jones</a>,\n",
       " <a class=\"\" href=\"//www.rottentomatoes.com/celebrity/alexia_landeau\">Alexia Landeau</a>]"
      ]
     },
     "execution_count": 118,
     "metadata": {},
     "output_type": "execute_result"
    }
   ],
   "source": [
    "divs[0].find('div',{'class':'info cast'}).find_all('a')"
   ]
  },
  {
   "cell_type": "code",
   "execution_count": null,
   "id": "d102c3b7",
   "metadata": {},
   "outputs": [],
   "source": []
  },
  {
   "cell_type": "code",
   "execution_count": 24,
   "id": "3baf6478",
   "metadata": {},
   "outputs": [],
   "source": [
    "cast_tags = [a.find('div',{'class':'info cast'}) for a in divs]"
   ]
  },
  {
   "cell_type": "code",
   "execution_count": 25,
   "id": "56e54b65",
   "metadata": {},
   "outputs": [
    {
     "data": {
      "text/plain": [
       "<div class=\"info cast\">\n",
       "<span class=\"descriptor\">Starring:</span> <a class=\"\" href=\"//www.rottentomatoes.com/celebrity/julie_delpy\">Julie Delpy</a>, <a class=\"\" href=\"//www.rottentomatoes.com/celebrity/elisabeth_shue\">Elisabeth Shue</a>, <a class=\"\" href=\"//www.rottentomatoes.com/celebrity/sarah_jones_5\">Sarah Jones</a>, <a class=\"\" href=\"//www.rottentomatoes.com/celebrity/alexia_landeau\">Alexia Landeau</a></div>"
      ]
     },
     "execution_count": 25,
     "metadata": {},
     "output_type": "execute_result"
    }
   ],
   "source": [
    "cast_tags[0]"
   ]
  },
  {
   "cell_type": "code",
   "execution_count": 26,
   "id": "51330ce6",
   "metadata": {
    "scrolled": true
   },
   "outputs": [
    {
     "data": {
      "text/plain": [
       "[<a class=\"\" href=\"//www.rottentomatoes.com/celebrity/julie_delpy\">Julie Delpy</a>,\n",
       " <a class=\"\" href=\"//www.rottentomatoes.com/celebrity/elisabeth_shue\">Elisabeth Shue</a>,\n",
       " <a class=\"\" href=\"//www.rottentomatoes.com/celebrity/sarah_jones_5\">Sarah Jones</a>,\n",
       " <a class=\"\" href=\"//www.rottentomatoes.com/celebrity/alexia_landeau\">Alexia Landeau</a>]"
      ]
     },
     "execution_count": 26,
     "metadata": {},
     "output_type": "execute_result"
    }
   ],
   "source": [
    "cast_tags[0].find_all('a')"
   ]
  },
  {
   "cell_type": "code",
   "execution_count": 27,
   "id": "ff85450e",
   "metadata": {},
   "outputs": [
    {
     "data": {
      "text/plain": [
       "[[<a class=\"\" href=\"//www.rottentomatoes.com/celebrity/julie_delpy\">Julie Delpy</a>,\n",
       "  <a class=\"\" href=\"//www.rottentomatoes.com/celebrity/elisabeth_shue\">Elisabeth Shue</a>,\n",
       "  <a class=\"\" href=\"//www.rottentomatoes.com/celebrity/sarah_jones_5\">Sarah Jones</a>,\n",
       "  <a class=\"\" href=\"//www.rottentomatoes.com/celebrity/alexia_landeau\">Alexia Landeau</a>],\n",
       " [<a class=\"\" href=\"//www.rottentomatoes.com/celebrity/amybeth_mcnulty\">Amybeth McNulty</a>,\n",
       "  <a class=\"\" href=\"//www.rottentomatoes.com/celebrity/rh_thomson\">R.H. Thomson</a>,\n",
       "  <a class=\"\" href=\"//www.rottentomatoes.com/celebrity/geraldine_james\">Geraldine James</a>,\n",
       "  <a class=\"\" href=\"//www.rottentomatoes.com/celebrity/lucas_jade_zumann\">Lucas Jade Zumann</a>],\n",
       " [<a class=\"\" href=\"//www.rottentomatoes.com/celebrity/ricky_gervais\">Ricky Gervais</a>,\n",
       "  <a class=\"\" href=\"//www.rottentomatoes.com/celebrity/karl_pilkington\">Karl Pilkington</a>,\n",
       "  <a class=\"\" href=\"//www.rottentomatoes.com/celebrity/kerry_godliman\">Kerry Godliman</a>,\n",
       "  <a class=\"\" href=\"//www.rottentomatoes.com/celebrity/david_earl\">David Earl</a>]]"
      ]
     },
     "execution_count": 27,
     "metadata": {},
     "output_type": "execute_result"
    }
   ],
   "source": [
    "[a.find_all('a') for a in cast_tags][:3]"
   ]
  },
  {
   "cell_type": "code",
   "execution_count": 30,
   "id": "9c93700c",
   "metadata": {},
   "outputs": [],
   "source": [
    "cast_a_tags = []\n",
    "\n",
    "for a in cast_tags:\n",
    "    anchor = a.find_all('a')\n",
    "    cast_a_tags.append(anchor)"
   ]
  },
  {
   "cell_type": "code",
   "execution_count": 31,
   "id": "c3bdee9a",
   "metadata": {},
   "outputs": [
    {
     "data": {
      "text/plain": [
       "214"
      ]
     },
     "execution_count": 31,
     "metadata": {},
     "output_type": "execute_result"
    }
   ],
   "source": [
    "len(cast_a_tags)"
   ]
  },
  {
   "cell_type": "code",
   "execution_count": 32,
   "id": "45f56ead",
   "metadata": {},
   "outputs": [
    {
     "data": {
      "text/plain": [
       "[<a class=\"\" href=\"//www.rottentomatoes.com/celebrity/julie_delpy\">Julie Delpy</a>,\n",
       " <a class=\"\" href=\"//www.rottentomatoes.com/celebrity/elisabeth_shue\">Elisabeth Shue</a>,\n",
       " <a class=\"\" href=\"//www.rottentomatoes.com/celebrity/sarah_jones_5\">Sarah Jones</a>,\n",
       " <a class=\"\" href=\"//www.rottentomatoes.com/celebrity/alexia_landeau\">Alexia Landeau</a>]"
      ]
     },
     "execution_count": 32,
     "metadata": {},
     "output_type": "execute_result"
    }
   ],
   "source": [
    "cast_a_tags[0]"
   ]
  },
  {
   "cell_type": "code",
   "execution_count": 33,
   "id": "e4f49eb4",
   "metadata": {},
   "outputs": [],
   "source": [
    "cast = []\n",
    "\n",
    "for a in cast_a_tags:\n",
    "    cast_mov =[]\n",
    "    for t in a:\n",
    "        ab = t.text\n",
    "        cast_mov.append(ab)\n",
    "    result = \", \".join(cast_mov)\n",
    "    cast.append(result)"
   ]
  },
  {
   "cell_type": "code",
   "execution_count": 34,
   "id": "9182ed53",
   "metadata": {},
   "outputs": [
    {
     "data": {
      "text/plain": [
       "['Julie Delpy, Elisabeth Shue, Sarah Jones, Alexia Landeau',\n",
       " 'Amybeth McNulty, R.H. Thomson, Geraldine James, Lucas Jade Zumann',\n",
       " 'Ricky Gervais, Karl Pilkington, Kerry Godliman, David Earl',\n",
       " 'Sarah Paulson, Sharon Stone, Cynthia Nixon, Finn Wittrock',\n",
       " 'Simona Brown, Robert Aramayo, Tyler Howitt, Eve Hewson',\n",
       " 'Kyle Chandler, Sissy Spacek, Linda Cardellini, Norbert Leo Butz',\n",
       " 'Laura Haddock, Daniel Mays, Guillermo Lasheras, Pedro Casablanc',\n",
       " 'Jon Bernthal, Ben Barnes, Amber Rose Revah, Jason R. Moore',\n",
       " 'Katherine Ryan, Steen Raskopoulos, Kate Byrne, Rory Keenan',\n",
       " 'Steven Van Zandt, Trond Fausa Aurvåg, Marian Saastad Ottesen, Steinar Sagen']"
      ]
     },
     "execution_count": 34,
     "metadata": {},
     "output_type": "execute_result"
    }
   ],
   "source": [
    "cast[:10]"
   ]
  },
  {
   "cell_type": "code",
   "execution_count": 35,
   "id": "437c6dac",
   "metadata": {},
   "outputs": [
    {
     "data": {
      "text/plain": [
       "214"
      ]
     },
     "execution_count": 35,
     "metadata": {},
     "output_type": "execute_result"
    }
   ],
   "source": [
    "len(cast)"
   ]
  },
  {
   "cell_type": "markdown",
   "id": "a52af457",
   "metadata": {},
   "source": [
    "## extracting directors info "
   ]
  },
  {
   "cell_type": "code",
   "execution_count": 157,
   "id": "11a7befb",
   "metadata": {},
   "outputs": [
    {
     "data": {
      "text/plain": [
       "<div class=\"info director\">\n",
       "<span class=\"descriptor\">Directed By:</span> <a class=\"\" href=\"//www.rottentomatoes.com/celebrity/miranda_de_pencier\">Miranda de Pencier</a>, <a class=\"\" href=\"//www.rottentomatoes.com/celebrity/elizabeth_bradley\">Elizabeth Bradley</a>, <a class=\"\" href=\"//www.rottentomatoes.com/celebrity/alison_owen\">Alison Owen</a>, <a class=\"\" href=\"//www.rottentomatoes.com/celebrity/debra_hayward\">Debra Hayward</a></div>"
      ]
     },
     "execution_count": 157,
     "metadata": {},
     "output_type": "execute_result"
    }
   ],
   "source": [
    "divs[1].find('div',{'class':'info director'})"
   ]
  },
  {
   "cell_type": "code",
   "execution_count": 37,
   "id": "2c11dd3e",
   "metadata": {},
   "outputs": [
    {
     "data": {
      "text/plain": [
       "<div class=\"info director\">\n",
       "<span class=\"descriptor\">Directed By:</span> <a class=\"\" href=\"//www.rottentomatoes.com/celebrity/julie_delpy\">Julie Delpy</a>, <a class=\"\" href=\"//www.rottentomatoes.com/celebrity/elisabeth_shue\">Elisabeth Shue</a>, <a class=\"\" href=\"//www.rottentomatoes.com/celebrity/michael_gentile\">Michael Gentile</a>, <a class=\"\" href=\"//www.rottentomatoes.com/celebrity/lauraine_heftler\">Lauraine Heftler</a></div>"
      ]
     },
     "execution_count": 37,
     "metadata": {},
     "output_type": "execute_result"
    }
   ],
   "source": [
    "director_info = [d.find('div',{'class':'info director'}) for d in divs]\n",
    "director_info[0]"
   ]
  },
  {
   "cell_type": "code",
   "execution_count": 161,
   "id": "b24a95d5",
   "metadata": {},
   "outputs": [
    {
     "data": {
      "text/plain": [
       "[<a class=\"\" href=\"//www.rottentomatoes.com/celebrity/julie_delpy\">Julie Delpy</a>,\n",
       " <a class=\"\" href=\"//www.rottentomatoes.com/celebrity/elisabeth_shue\">Elisabeth Shue</a>,\n",
       " <a class=\"\" href=\"//www.rottentomatoes.com/celebrity/michael_gentile\">Michael Gentile</a>,\n",
       " <a class=\"\" href=\"//www.rottentomatoes.com/celebrity/lauraine_heftler\">Lauraine Heftler</a>]"
      ]
     },
     "execution_count": 161,
     "metadata": {},
     "output_type": "execute_result"
    }
   ],
   "source": [
    "director_info[0].find_all('a')"
   ]
  },
  {
   "cell_type": "code",
   "execution_count": 38,
   "id": "50526494",
   "metadata": {},
   "outputs": [
    {
     "data": {
      "text/plain": [
       "[[<a class=\"\" href=\"//www.rottentomatoes.com/celebrity/julie_delpy\">Julie Delpy</a>,\n",
       "  <a class=\"\" href=\"//www.rottentomatoes.com/celebrity/elisabeth_shue\">Elisabeth Shue</a>,\n",
       "  <a class=\"\" href=\"//www.rottentomatoes.com/celebrity/michael_gentile\">Michael Gentile</a>,\n",
       "  <a class=\"\" href=\"//www.rottentomatoes.com/celebrity/lauraine_heftler\">Lauraine Heftler</a>],\n",
       " [<a class=\"\" href=\"//www.rottentomatoes.com/celebrity/miranda_de_pencier\">Miranda de Pencier</a>,\n",
       "  <a class=\"\" href=\"//www.rottentomatoes.com/celebrity/elizabeth_bradley\">Elizabeth Bradley</a>,\n",
       "  <a class=\"\" href=\"//www.rottentomatoes.com/celebrity/alison_owen\">Alison Owen</a>,\n",
       "  <a class=\"\" href=\"//www.rottentomatoes.com/celebrity/debra_hayward\">Debra Hayward</a>],\n",
       " [<a class=\"\" href=\"//www.rottentomatoes.com/celebrity/ricky_gervais\">Ricky Gervais</a>]]"
      ]
     },
     "execution_count": 38,
     "metadata": {},
     "output_type": "execute_result"
    }
   ],
   "source": [
    "director_atag = [None if d is None else d.find_all('a') for d in director_info]\n",
    "director_atag[:3]"
   ]
  },
  {
   "cell_type": "code",
   "execution_count": 166,
   "id": "9ee85f29",
   "metadata": {},
   "outputs": [
    {
     "data": {
      "text/plain": [
       "'Julie Delpy'"
      ]
     },
     "execution_count": 166,
     "metadata": {},
     "output_type": "execute_result"
    }
   ],
   "source": [
    "director_atag[0][0].text"
   ]
  },
  {
   "cell_type": "code",
   "execution_count": null,
   "id": "1f955a3c",
   "metadata": {},
   "outputs": [],
   "source": []
  },
  {
   "cell_type": "code",
   "execution_count": 39,
   "id": "9d9021a2",
   "metadata": {},
   "outputs": [],
   "source": [
    "director = []\n",
    "\n",
    "for l in director_atag:\n",
    "    d_names = []\n",
    "    \n",
    "    if l is None: # accounting for none values\n",
    "        director.append(\"\") # adding space to maintain total length of list\n",
    "        continue\n",
    "    else:\n",
    "        for a in l:\n",
    "            name = a.text\n",
    "            d_names.append(name)\n",
    "    result = \", \".join(d_names)\n",
    "    director.append(result)"
   ]
  },
  {
   "cell_type": "code",
   "execution_count": 40,
   "id": "a9048920",
   "metadata": {},
   "outputs": [
    {
     "data": {
      "text/plain": [
       "['Julie Delpy, Elisabeth Shue, Michael Gentile, Lauraine Heftler',\n",
       " 'Miranda de Pencier, Elizabeth Bradley, Alison Owen, Debra Hayward',\n",
       " 'Ricky Gervais',\n",
       " 'Ryan Murphy, Michael Douglas, Aleen Keshishian, Margaret Riley',\n",
       " 'Erik Richter Strand',\n",
       " 'Todd A. Kessler, Daniel Zelman, Glenn Kessler',\n",
       " 'Nick Hamm, Luis Prieto',\n",
       " 'Steve Lightfoot',\n",
       " 'Katherine Ryan, Dave Becky, Josh Lieberman, Murray Ferguson',\n",
       " 'Geir Henning Hopland, Simen Alsvik, Lisa Marie Gamlem, Øystein Karlsen']"
      ]
     },
     "execution_count": 40,
     "metadata": {},
     "output_type": "execute_result"
    }
   ],
   "source": [
    "director[:10]"
   ]
  },
  {
   "cell_type": "code",
   "execution_count": 41,
   "id": "dac3bbe4",
   "metadata": {},
   "outputs": [
    {
     "data": {
      "text/plain": [
       "214"
      ]
     },
     "execution_count": 41,
     "metadata": {},
     "output_type": "execute_result"
    }
   ],
   "source": [
    "len(director)"
   ]
  },
  {
   "cell_type": "markdown",
   "id": "72eb0d97",
   "metadata": {},
   "source": [
    "# Representing data in structured form"
   ]
  },
  {
   "cell_type": "code",
   "execution_count": 179,
   "id": "fd78766b",
   "metadata": {},
   "outputs": [],
   "source": [
    "# for this we will use pandas dataframe."
   ]
  },
  {
   "cell_type": "code",
   "execution_count": 180,
   "id": "738faa05",
   "metadata": {},
   "outputs": [],
   "source": [
    "import pandas as pd"
   ]
  },
  {
   "cell_type": "markdown",
   "id": "c462201f",
   "metadata": {},
   "source": [
    "### creating a dataframe"
   ]
  },
  {
   "cell_type": "code",
   "execution_count": 181,
   "id": "213df9fe",
   "metadata": {},
   "outputs": [],
   "source": [
    "netflix_series = pd.DataFrame()"
   ]
  },
  {
   "cell_type": "markdown",
   "id": "7cfc58d0",
   "metadata": {},
   "source": [
    "### populating dataframe"
   ]
  },
  {
   "cell_type": "code",
   "execution_count": 182,
   "id": "80b9a48d",
   "metadata": {},
   "outputs": [],
   "source": [
    "netflix_series['series_names'] = movie_names"
   ]
  },
  {
   "cell_type": "code",
   "execution_count": 183,
   "id": "c4a7abea",
   "metadata": {},
   "outputs": [],
   "source": [
    "netflix_series['release_year'] = years"
   ]
  },
  {
   "cell_type": "code",
   "execution_count": 184,
   "id": "791e9ee4",
   "metadata": {},
   "outputs": [],
   "source": [
    "netflix_series['ratings'] = scores"
   ]
  },
  {
   "cell_type": "code",
   "execution_count": 185,
   "id": "68227856",
   "metadata": {},
   "outputs": [],
   "source": [
    "netflix_series['synopsis'] = synopsis_text"
   ]
  },
  {
   "cell_type": "code",
   "execution_count": 186,
   "id": "cadc0287",
   "metadata": {},
   "outputs": [],
   "source": [
    "netflix_series['cast'] = cast"
   ]
  },
  {
   "cell_type": "code",
   "execution_count": 187,
   "id": "e8884255",
   "metadata": {},
   "outputs": [],
   "source": [
    "netflix_series['director'] = director"
   ]
  },
  {
   "cell_type": "code",
   "execution_count": 190,
   "id": "6f33300b",
   "metadata": {},
   "outputs": [
    {
     "data": {
      "text/html": [
       "<div>\n",
       "<style scoped>\n",
       "    .dataframe tbody tr th:only-of-type {\n",
       "        vertical-align: middle;\n",
       "    }\n",
       "\n",
       "    .dataframe tbody tr th {\n",
       "        vertical-align: top;\n",
       "    }\n",
       "\n",
       "    .dataframe thead th {\n",
       "        text-align: right;\n",
       "    }\n",
       "</style>\n",
       "<table border=\"1\" class=\"dataframe\">\n",
       "  <thead>\n",
       "    <tr style=\"text-align: right;\">\n",
       "      <th></th>\n",
       "      <th>series_names</th>\n",
       "      <th>release_year</th>\n",
       "      <th>ratings</th>\n",
       "      <th>synopsis</th>\n",
       "      <th>cast</th>\n",
       "      <th>director</th>\n",
       "    </tr>\n",
       "  </thead>\n",
       "  <tbody>\n",
       "    <tr>\n",
       "      <th>0</th>\n",
       "      <td>On the Verge</td>\n",
       "      <td>2021</td>\n",
       "      <td>60.0</td>\n",
       "      <td>Four women -- a chef, a single mother, an heiress, and a job seeker -- dig into love, work and...</td>\n",
       "      <td>Julie Delpy, Elisabeth Shue, Sarah Jones, Alexia Landeau</td>\n",
       "      <td>Julie Delpy, Elisabeth Shue, Michael Gentile, Lauraine Heftler</td>\n",
       "    </tr>\n",
       "    <tr>\n",
       "      <th>1</th>\n",
       "      <td>Anne With an E</td>\n",
       "      <td>2017</td>\n",
       "      <td>53.0</td>\n",
       "      <td>This reimagining of the classic book and film is a coming-of-age story about a young orphan who is seeking love,...</td>\n",
       "      <td>Amybeth McNulty, R.H. Thomson, Geraldine James, Lucas Jade Zumann</td>\n",
       "      <td>Miranda de Pencier, Elizabeth Bradley, Alison Owen, Debra Hayward</td>\n",
       "    </tr>\n",
       "    <tr>\n",
       "      <th>2</th>\n",
       "      <td>Derek</td>\n",
       "      <td>2013</td>\n",
       "      <td>60.0</td>\n",
       "      <td>A documentary-style comedy-drama follows a group of people living on the fringe of society. At the group's core is Derek...</td>\n",
       "      <td>Ricky Gervais, Karl Pilkington, Kerry Godliman, David Earl</td>\n",
       "      <td>Ricky Gervais</td>\n",
       "    </tr>\n",
       "    <tr>\n",
       "      <th>3</th>\n",
       "      <td>Ratched</td>\n",
       "      <td>2020</td>\n",
       "      <td>61.0</td>\n",
       "      <td>A young nurse at a mental institution becomes jaded and bitter before turning into a full-fledged monster to her patients....</td>\n",
       "      <td>Sarah Paulson, Sharon Stone, Cynthia Nixon, Finn Wittrock</td>\n",
       "      <td>Ryan Murphy, Michael Douglas, Aleen Keshishian, Margaret Riley</td>\n",
       "    </tr>\n",
       "    <tr>\n",
       "      <th>4</th>\n",
       "      <td>Behind Her Eyes</td>\n",
       "      <td>2021</td>\n",
       "      <td>62.0</td>\n",
       "      <td>A single mother enters a world of twisted mind games when she begins an affair with her psychiatrist boss while...</td>\n",
       "      <td>Simona Brown, Robert Aramayo, Tyler Howitt, Eve Hewson</td>\n",
       "      <td>Erik Richter Strand</td>\n",
       "    </tr>\n",
       "  </tbody>\n",
       "</table>\n",
       "</div>"
      ],
      "text/plain": [
       "      series_names  release_year  ratings  \\\n",
       "0  On the Verge     2021          60.0      \n",
       "1  Anne With an E   2017          53.0      \n",
       "2  Derek            2013          60.0      \n",
       "3  Ratched          2020          61.0      \n",
       "4  Behind Her Eyes  2021          62.0      \n",
       "\n",
       "                                                                                                                        synopsis  \\\n",
       "0  Four women -- a chef, a single mother, an heiress, and a job seeker -- dig into love, work and...                               \n",
       "1  This reimagining of the classic book and film is a coming-of-age story about a young orphan who is seeking love,...             \n",
       "2  A documentary-style comedy-drama follows a group of people living on the fringe of society. At the group's core is Derek...     \n",
       "3  A young nurse at a mental institution becomes jaded and bitter before turning into a full-fledged monster to her patients....   \n",
       "4  A single mother enters a world of twisted mind games when she begins an affair with her psychiatrist boss while...              \n",
       "\n",
       "                                                                cast  \\\n",
       "0  Julie Delpy, Elisabeth Shue, Sarah Jones, Alexia Landeau            \n",
       "1  Amybeth McNulty, R.H. Thomson, Geraldine James, Lucas Jade Zumann   \n",
       "2  Ricky Gervais, Karl Pilkington, Kerry Godliman, David Earl          \n",
       "3  Sarah Paulson, Sharon Stone, Cynthia Nixon, Finn Wittrock           \n",
       "4  Simona Brown, Robert Aramayo, Tyler Howitt, Eve Hewson              \n",
       "\n",
       "                                                            director  \n",
       "0  Julie Delpy, Elisabeth Shue, Michael Gentile, Lauraine Heftler     \n",
       "1  Miranda de Pencier, Elizabeth Bradley, Alison Owen, Debra Hayward  \n",
       "2  Ricky Gervais                                                      \n",
       "3  Ryan Murphy, Michael Douglas, Aleen Keshishian, Margaret Riley     \n",
       "4  Erik Richter Strand                                                "
      ]
     },
     "execution_count": 190,
     "metadata": {},
     "output_type": "execute_result"
    }
   ],
   "source": [
    "netflix_series.head()"
   ]
  },
  {
   "cell_type": "code",
   "execution_count": 189,
   "id": "33a1bddf",
   "metadata": {},
   "outputs": [
    {
     "name": "stderr",
     "output_type": "stream",
     "text": [
      "<ipython-input-189-0891b765a168>:1: FutureWarning: Passing a negative integer is deprecated in version 1.0 and will not be supported in future version. Instead, use None to not limit the column width.\n",
      "  pd.set_option('display.max_colwidth', -1)\n"
     ]
    }
   ],
   "source": [
    "# this code is to display full column text if not displayed properly\n",
    "pd.set_option('display.max_colwidth', -1)"
   ]
  },
  {
   "cell_type": "code",
   "execution_count": 191,
   "id": "639d4b51",
   "metadata": {},
   "outputs": [
    {
     "data": {
      "text/html": [
       "<div>\n",
       "<style scoped>\n",
       "    .dataframe tbody tr th:only-of-type {\n",
       "        vertical-align: middle;\n",
       "    }\n",
       "\n",
       "    .dataframe tbody tr th {\n",
       "        vertical-align: top;\n",
       "    }\n",
       "\n",
       "    .dataframe thead th {\n",
       "        text-align: right;\n",
       "    }\n",
       "</style>\n",
       "<table border=\"1\" class=\"dataframe\">\n",
       "  <thead>\n",
       "    <tr style=\"text-align: right;\">\n",
       "      <th></th>\n",
       "      <th>series_names</th>\n",
       "      <th>release_year</th>\n",
       "      <th>ratings</th>\n",
       "      <th>synopsis</th>\n",
       "      <th>cast</th>\n",
       "      <th>director</th>\n",
       "    </tr>\n",
       "  </thead>\n",
       "  <tbody>\n",
       "    <tr>\n",
       "      <th>0</th>\n",
       "      <td>On the Verge</td>\n",
       "      <td>2021</td>\n",
       "      <td>60.0</td>\n",
       "      <td>Four women -- a chef, a single mother, an heiress, and a job seeker -- dig into love, work and...</td>\n",
       "      <td>Julie Delpy, Elisabeth Shue, Sarah Jones, Alexia Landeau</td>\n",
       "      <td>Julie Delpy, Elisabeth Shue, Michael Gentile, Lauraine Heftler</td>\n",
       "    </tr>\n",
       "    <tr>\n",
       "      <th>1</th>\n",
       "      <td>Anne With an E</td>\n",
       "      <td>2017</td>\n",
       "      <td>53.0</td>\n",
       "      <td>This reimagining of the classic book and film is a coming-of-age story about a young orphan who is seeking love,...</td>\n",
       "      <td>Amybeth McNulty, R.H. Thomson, Geraldine James, Lucas Jade Zumann</td>\n",
       "      <td>Miranda de Pencier, Elizabeth Bradley, Alison Owen, Debra Hayward</td>\n",
       "    </tr>\n",
       "    <tr>\n",
       "      <th>2</th>\n",
       "      <td>Derek</td>\n",
       "      <td>2013</td>\n",
       "      <td>60.0</td>\n",
       "      <td>A documentary-style comedy-drama follows a group of people living on the fringe of society. At the group's core is Derek...</td>\n",
       "      <td>Ricky Gervais, Karl Pilkington, Kerry Godliman, David Earl</td>\n",
       "      <td>Ricky Gervais</td>\n",
       "    </tr>\n",
       "    <tr>\n",
       "      <th>3</th>\n",
       "      <td>Ratched</td>\n",
       "      <td>2020</td>\n",
       "      <td>61.0</td>\n",
       "      <td>A young nurse at a mental institution becomes jaded and bitter before turning into a full-fledged monster to her patients....</td>\n",
       "      <td>Sarah Paulson, Sharon Stone, Cynthia Nixon, Finn Wittrock</td>\n",
       "      <td>Ryan Murphy, Michael Douglas, Aleen Keshishian, Margaret Riley</td>\n",
       "    </tr>\n",
       "    <tr>\n",
       "      <th>4</th>\n",
       "      <td>Behind Her Eyes</td>\n",
       "      <td>2021</td>\n",
       "      <td>62.0</td>\n",
       "      <td>A single mother enters a world of twisted mind games when she begins an affair with her psychiatrist boss while...</td>\n",
       "      <td>Simona Brown, Robert Aramayo, Tyler Howitt, Eve Hewson</td>\n",
       "      <td>Erik Richter Strand</td>\n",
       "    </tr>\n",
       "  </tbody>\n",
       "</table>\n",
       "</div>"
      ],
      "text/plain": [
       "      series_names  release_year  ratings  \\\n",
       "0  On the Verge     2021          60.0      \n",
       "1  Anne With an E   2017          53.0      \n",
       "2  Derek            2013          60.0      \n",
       "3  Ratched          2020          61.0      \n",
       "4  Behind Her Eyes  2021          62.0      \n",
       "\n",
       "                                                                                                                        synopsis  \\\n",
       "0  Four women -- a chef, a single mother, an heiress, and a job seeker -- dig into love, work and...                               \n",
       "1  This reimagining of the classic book and film is a coming-of-age story about a young orphan who is seeking love,...             \n",
       "2  A documentary-style comedy-drama follows a group of people living on the fringe of society. At the group's core is Derek...     \n",
       "3  A young nurse at a mental institution becomes jaded and bitter before turning into a full-fledged monster to her patients....   \n",
       "4  A single mother enters a world of twisted mind games when she begins an affair with her psychiatrist boss while...              \n",
       "\n",
       "                                                                cast  \\\n",
       "0  Julie Delpy, Elisabeth Shue, Sarah Jones, Alexia Landeau            \n",
       "1  Amybeth McNulty, R.H. Thomson, Geraldine James, Lucas Jade Zumann   \n",
       "2  Ricky Gervais, Karl Pilkington, Kerry Godliman, David Earl          \n",
       "3  Sarah Paulson, Sharon Stone, Cynthia Nixon, Finn Wittrock           \n",
       "4  Simona Brown, Robert Aramayo, Tyler Howitt, Eve Hewson              \n",
       "\n",
       "                                                            director  \n",
       "0  Julie Delpy, Elisabeth Shue, Michael Gentile, Lauraine Heftler     \n",
       "1  Miranda de Pencier, Elizabeth Bradley, Alison Owen, Debra Hayward  \n",
       "2  Ricky Gervais                                                      \n",
       "3  Ryan Murphy, Michael Douglas, Aleen Keshishian, Margaret Riley     \n",
       "4  Erik Richter Strand                                                "
      ]
     },
     "execution_count": 191,
     "metadata": {},
     "output_type": "execute_result"
    }
   ],
   "source": [
    "netflix_series.head()"
   ]
  },
  {
   "cell_type": "markdown",
   "id": "09b71fe2",
   "metadata": {},
   "source": [
    "### exporting this data to a csv file"
   ]
  },
  {
   "cell_type": "code",
   "execution_count": 192,
   "id": "1b94fa56",
   "metadata": {},
   "outputs": [],
   "source": [
    "netflix_series.to_csv('netflix_series.csv', index= False)"
   ]
  },
  {
   "cell_type": "code",
   "execution_count": null,
   "id": "6c9daf12",
   "metadata": {},
   "outputs": [],
   "source": []
  }
 ],
 "metadata": {
  "kernelspec": {
   "display_name": "Python 3",
   "language": "python",
   "name": "python3"
  },
  "language_info": {
   "codemirror_mode": {
    "name": "ipython",
    "version": 3
   },
   "file_extension": ".py",
   "mimetype": "text/x-python",
   "name": "python",
   "nbconvert_exporter": "python",
   "pygments_lexer": "ipython3",
   "version": "3.8.8"
  }
 },
 "nbformat": 4,
 "nbformat_minor": 5
}
